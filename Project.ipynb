{
  "nbformat": 4,
  "nbformat_minor": 0,
  "metadata": {
    "colab": {
      "provenance": [],
      "gpuType": "T4"
    },
    "kernelspec": {
      "name": "python3",
      "display_name": "Python 3"
    },
    "language_info": {
      "name": "python"
    },
    "accelerator": "GPU"
  },
  "cells": [
    {
      "cell_type": "markdown",
      "source": [
        "# Custom Chatbot Project"
      ],
      "metadata": {
        "id": "NzcxHgHu37zw"
      }
    },
    {
      "cell_type": "markdown",
      "source": [
        "Datasets used:\n",
        "\n",
        "- DSQ: Consists of 250 latest Data Science Interview Questions\n",
        "- 2023-Israel-Hamas-War: Consists of latest on-going war details upto 3rd Dec 2023\n",
        "\n",
        "\n",
        "We have used DSQ dataset to see how our GPT gets trained and all, it gave us quite a sightings and we came to a conclusion that GPT was already pre-trained.\n",
        "\n",
        "Now knowing the fact that it was pre-trained and knew all the DSQ data right before we fed it, we decided to go with something latest and on-going event which is \"2023-Israel-Hamas-War\".\n",
        "\n",
        "We tested GPT to see if it knew about current on-going events or not and came to know that it knows nothing about current Israel-Hamas on-going war, which makes our dataset perfect for this project."
      ],
      "metadata": {
        "id": "OioQVkaDGtcr"
      }
    },
    {
      "cell_type": "code",
      "execution_count": 1,
      "metadata": {
        "colab": {
          "base_uri": "https://localhost:8080/"
        },
        "id": "pYxqhe0JvcUk",
        "outputId": "359d6557-2b96-41c2-c56a-15a9fcd05736"
      },
      "outputs": [
        {
          "output_type": "stream",
          "name": "stdout",
          "text": [
            "Collecting cohere\n",
            "  Downloading cohere-4.37-py3-none-any.whl (48 kB)\n",
            "\u001b[2K     \u001b[90m━━━━━━━━━━━━━━━━━━━━━━━━━━━━━━━━━━━━━━━━\u001b[0m \u001b[32m48.9/48.9 kB\u001b[0m \u001b[31m872.4 kB/s\u001b[0m eta \u001b[36m0:00:00\u001b[0m\n",
            "\u001b[?25hCollecting openai==0.28\n",
            "  Downloading openai-0.28.0-py3-none-any.whl (76 kB)\n",
            "\u001b[2K     \u001b[90m━━━━━━━━━━━━━━━━━━━━━━━━━━━━━━━━━━━━━━━━\u001b[0m \u001b[32m76.5/76.5 kB\u001b[0m \u001b[31m1.9 MB/s\u001b[0m eta \u001b[36m0:00:00\u001b[0m\n",
            "\u001b[?25hCollecting tiktoken\n",
            "  Downloading tiktoken-0.5.2-cp310-cp310-manylinux_2_17_x86_64.manylinux2014_x86_64.whl (2.0 MB)\n",
            "\u001b[2K     \u001b[90m━━━━━━━━━━━━━━━━━━━━━━━━━━━━━━━━━━━━━━━━\u001b[0m \u001b[32m2.0/2.0 MB\u001b[0m \u001b[31m15.9 MB/s\u001b[0m eta \u001b[36m0:00:00\u001b[0m\n",
            "\u001b[?25hRequirement already satisfied: numpy in /usr/local/lib/python3.10/dist-packages (1.23.5)\n",
            "Requirement already satisfied: scipy in /usr/local/lib/python3.10/dist-packages (1.11.4)\n",
            "Requirement already satisfied: pandas in /usr/local/lib/python3.10/dist-packages (1.5.3)\n",
            "Requirement already satisfied: requests>=2.20 in /usr/local/lib/python3.10/dist-packages (from openai==0.28) (2.31.0)\n",
            "Requirement already satisfied: tqdm in /usr/local/lib/python3.10/dist-packages (from openai==0.28) (4.66.1)\n",
            "Requirement already satisfied: aiohttp in /usr/local/lib/python3.10/dist-packages (from openai==0.28) (3.9.1)\n",
            "Collecting backoff<3.0,>=2.0 (from cohere)\n",
            "  Downloading backoff-2.2.1-py3-none-any.whl (15 kB)\n",
            "Collecting fastavro<2.0,>=1.8 (from cohere)\n",
            "  Downloading fastavro-1.9.0-cp310-cp310-manylinux_2_17_x86_64.manylinux2014_x86_64.whl (3.1 MB)\n",
            "\u001b[2K     \u001b[90m━━━━━━━━━━━━━━━━━━━━━━━━━━━━━━━━━━━━━━━━\u001b[0m \u001b[32m3.1/3.1 MB\u001b[0m \u001b[31m58.3 MB/s\u001b[0m eta \u001b[36m0:00:00\u001b[0m\n",
            "\u001b[?25hRequirement already satisfied: importlib_metadata<7.0,>=6.0 in /usr/local/lib/python3.10/dist-packages (from cohere) (6.8.0)\n",
            "Requirement already satisfied: urllib3<3,>=1.26 in /usr/local/lib/python3.10/dist-packages (from cohere) (2.0.7)\n",
            "Requirement already satisfied: regex>=2022.1.18 in /usr/local/lib/python3.10/dist-packages (from tiktoken) (2023.6.3)\n",
            "Requirement already satisfied: python-dateutil>=2.8.1 in /usr/local/lib/python3.10/dist-packages (from pandas) (2.8.2)\n",
            "Requirement already satisfied: pytz>=2020.1 in /usr/local/lib/python3.10/dist-packages (from pandas) (2023.3.post1)\n",
            "Requirement already satisfied: attrs>=17.3.0 in /usr/local/lib/python3.10/dist-packages (from aiohttp->openai==0.28) (23.1.0)\n",
            "Requirement already satisfied: multidict<7.0,>=4.5 in /usr/local/lib/python3.10/dist-packages (from aiohttp->openai==0.28) (6.0.4)\n",
            "Requirement already satisfied: yarl<2.0,>=1.0 in /usr/local/lib/python3.10/dist-packages (from aiohttp->openai==0.28) (1.9.3)\n",
            "Requirement already satisfied: frozenlist>=1.1.1 in /usr/local/lib/python3.10/dist-packages (from aiohttp->openai==0.28) (1.4.0)\n",
            "Requirement already satisfied: aiosignal>=1.1.2 in /usr/local/lib/python3.10/dist-packages (from aiohttp->openai==0.28) (1.3.1)\n",
            "Requirement already satisfied: async-timeout<5.0,>=4.0 in /usr/local/lib/python3.10/dist-packages (from aiohttp->openai==0.28) (4.0.3)\n",
            "Requirement already satisfied: zipp>=0.5 in /usr/local/lib/python3.10/dist-packages (from importlib_metadata<7.0,>=6.0->cohere) (3.17.0)\n",
            "Requirement already satisfied: six>=1.5 in /usr/local/lib/python3.10/dist-packages (from python-dateutil>=2.8.1->pandas) (1.16.0)\n",
            "Requirement already satisfied: charset-normalizer<4,>=2 in /usr/local/lib/python3.10/dist-packages (from requests>=2.20->openai==0.28) (3.3.2)\n",
            "Requirement already satisfied: idna<4,>=2.5 in /usr/local/lib/python3.10/dist-packages (from requests>=2.20->openai==0.28) (3.6)\n",
            "Requirement already satisfied: certifi>=2017.4.17 in /usr/local/lib/python3.10/dist-packages (from requests>=2.20->openai==0.28) (2023.11.17)\n",
            "Installing collected packages: fastavro, backoff, tiktoken, openai, cohere\n",
            "Successfully installed backoff-2.2.1 cohere-4.37 fastavro-1.9.0 openai-0.28.0 tiktoken-0.5.2\n"
          ]
        }
      ],
      "source": [
        "!pip install cohere openai==0.28 tiktoken numpy scipy pandas\n",
        "\n",
        "import pandas as pd\n",
        "import os\n",
        "import warnings\n",
        "import numpy as np\n",
        "import openai\n",
        "import ast\n",
        "import tiktoken\n",
        "from scipy import spatial\n",
        "from typing import Tuple,List\n",
        "\n",
        "\n",
        "def warn(*args, **kwargs):\n",
        "    pass\n",
        "\n",
        "warnings.warn = warn\n"
      ]
    },
    {
      "cell_type": "code",
      "source": [
        "from google.colab import drive\n",
        "drive.mount('/content/gdrive')"
      ],
      "metadata": {
        "colab": {
          "base_uri": "https://localhost:8080/"
        },
        "id": "77i0Opflv6cD",
        "outputId": "fb8917d9-8e22-460d-a482-52075b02c417"
      },
      "execution_count": 15,
      "outputs": [
        {
          "output_type": "stream",
          "name": "stdout",
          "text": [
            "Drive already mounted at /content/gdrive; to attempt to forcibly remount, call drive.mount(\"/content/gdrive\", force_remount=True).\n"
          ]
        }
      ]
    },
    {
      "cell_type": "code",
      "source": [
        "!ls \"/content/gdrive/MyDrive/Colab Notebooks\""
      ],
      "metadata": {
        "colab": {
          "base_uri": "https://localhost:8080/"
        },
        "id": "w9f1EFL6xZBw",
        "outputId": "6203dd42-a841-49c6-ec85-e06bf55eeffa"
      },
      "execution_count": 16,
      "outputs": [
        {
          "output_type": "stream",
          "name": "stdout",
          "text": [
            " 2023-Israel-Hamas-War.csv\t\t\t Resume.pdf\n",
            " audio_with_hidden_text.wav\t\t\t test.wav\n",
            "'Copy of Untitled3.ipynb'\t\t\t Untitled\n",
            "'Copy of Untitled6.ipynb'\t\t\t Untitled0.ipynb\n",
            " DSQs_embedded.csv\t\t\t\t Untitled1.ipynb\n",
            " DSQs.txt\t\t\t\t\t Untitled2.ipynb\n",
            "'Hospitalization Hypothesis Testing (1).ipynb'\t Untitled3.ipynb\n",
            "'Hospitalization Hypothesis Testing (2).ipynb'\t Untitled4.ipynb\n",
            "'Hospitalization Hypothesis Testing (3).ipynb'\t Untitled5.ipynb\n",
            "'Hospitalization Hypothesis Testing.ipynb'\t Untitled6.ipynb\n",
            " output10.wav\t\t\t\t\t video.mp4\n",
            " output2.mp4\t\t\t\t\t wav2lip_gan.pth\n",
            " outputs.mp4\n"
          ]
        }
      ]
    },
    {
      "cell_type": "markdown",
      "source": [
        "## Data Wrangling\n",
        "\n",
        "TODO: In the cells below, load your chosen dataset into a `pandas` dataframe with a column named `\"text\"`. This column should contain all of your text data, separated into at least 20 rows."
      ],
      "metadata": {
        "id": "-FSYHU4h996k"
      }
    },
    {
      "cell_type": "code",
      "source": [
        "file_path = '/content/gdrive/MyDrive/Colab Notebooks/DSQs.txt'\n",
        "with open(file_path, 'r') as file:\n",
        "    lines = [line.strip() for line in file]\n",
        "\n",
        "# Dataframe\n",
        "df = pd.DataFrame(lines, columns=[\"text\"])"
      ],
      "metadata": {
        "id": "bl-GGdaZ9RdS"
      },
      "execution_count": null,
      "outputs": []
    },
    {
      "cell_type": "code",
      "source": [
        "# Preprocessing\n",
        "\n",
        "df.to_csv('data/DSQs_preprocessed.csv')"
      ],
      "metadata": {
        "id": "IDWN6P-t9cKh"
      },
      "execution_count": null,
      "outputs": []
    },
    {
      "cell_type": "code",
      "source": [
        "#Embedding\n",
        "\n",
        "df = pd.read_csv(\"/content/gdrive/MyDrive/Colab Notebooks/DSQs_preprocessed.csv\")\n",
        "\n",
        "client = OpenAI(api_key=\"key\") # Place your OpenAI key here\n",
        "\n",
        "def get_embedding(text, model=\"text-embedding-ada-002\"):\n",
        "    text = text.replace(\"\\n\", \" \")\n",
        "    return client.embeddings.create(input = [text], model=model).data[0].embedding\n",
        "\n",
        "df['ada_embedding'] = df.text.apply(lambda x: get_embedding(x, model='text-embedding-ada-002'))\n",
        "df.to_csv('/content/gdrive/MyDrive/Colab Notebooks/DSQs_embedded.csv', index=False)\n"
      ],
      "metadata": {
        "id": "BhdsJSaU9l_a"
      },
      "execution_count": null,
      "outputs": []
    },
    {
      "cell_type": "code",
      "source": [
        "df = pd.read_csv(\"/content/gdrive/MyDrive/Colab Notebooks/DSQs_embedded.csv\")\n",
        "df.head()"
      ],
      "metadata": {
        "colab": {
          "base_uri": "https://localhost:8080/",
          "height": 206
        },
        "id": "0QRi6tOkxhEJ",
        "outputId": "55b09f17-3f14-47f9-bcd3-9ce0bd7de513"
      },
      "execution_count": null,
      "outputs": [
        {
          "output_type": "execute_result",
          "data": {
            "text/plain": [
              "                                                text  \\\n",
              "0  How do you ensure that your data science model...   \n",
              "1  What tools and techniques do you use for data ...   \n",
              "2  Can you explain the concept and importance of ...   \n",
              "3  How would you handle imbalanced datasets in a ...   \n",
              "4  What is the difference between a Type I and Ty...   \n",
              "\n",
              "                                       ada_embedding  \n",
              "0  [-0.0017857637722045183, -0.010468040592968464...  \n",
              "1  [0.0013928849948570132, -0.0002107492036884650...  \n",
              "2  [0.015783732756972313, -0.008996326476335526, ...  \n",
              "3  [-0.0062577431090176105, 0.012802968733012676,...  \n",
              "4  [0.01271655410528183, -0.0003393392253201455, ...  "
            ],
            "text/html": [
              "\n",
              "  <div id=\"df-65bf1e69-ffc8-4dae-a2b2-fb00cdc2578b\" class=\"colab-df-container\">\n",
              "    <div>\n",
              "<style scoped>\n",
              "    .dataframe tbody tr th:only-of-type {\n",
              "        vertical-align: middle;\n",
              "    }\n",
              "\n",
              "    .dataframe tbody tr th {\n",
              "        vertical-align: top;\n",
              "    }\n",
              "\n",
              "    .dataframe thead th {\n",
              "        text-align: right;\n",
              "    }\n",
              "</style>\n",
              "<table border=\"1\" class=\"dataframe\">\n",
              "  <thead>\n",
              "    <tr style=\"text-align: right;\">\n",
              "      <th></th>\n",
              "      <th>text</th>\n",
              "      <th>ada_embedding</th>\n",
              "    </tr>\n",
              "  </thead>\n",
              "  <tbody>\n",
              "    <tr>\n",
              "      <th>0</th>\n",
              "      <td>How do you ensure that your data science model...</td>\n",
              "      <td>[-0.0017857637722045183, -0.010468040592968464...</td>\n",
              "    </tr>\n",
              "    <tr>\n",
              "      <th>1</th>\n",
              "      <td>What tools and techniques do you use for data ...</td>\n",
              "      <td>[0.0013928849948570132, -0.0002107492036884650...</td>\n",
              "    </tr>\n",
              "    <tr>\n",
              "      <th>2</th>\n",
              "      <td>Can you explain the concept and importance of ...</td>\n",
              "      <td>[0.015783732756972313, -0.008996326476335526, ...</td>\n",
              "    </tr>\n",
              "    <tr>\n",
              "      <th>3</th>\n",
              "      <td>How would you handle imbalanced datasets in a ...</td>\n",
              "      <td>[-0.0062577431090176105, 0.012802968733012676,...</td>\n",
              "    </tr>\n",
              "    <tr>\n",
              "      <th>4</th>\n",
              "      <td>What is the difference between a Type I and Ty...</td>\n",
              "      <td>[0.01271655410528183, -0.0003393392253201455, ...</td>\n",
              "    </tr>\n",
              "  </tbody>\n",
              "</table>\n",
              "</div>\n",
              "    <div class=\"colab-df-buttons\">\n",
              "\n",
              "  <div class=\"colab-df-container\">\n",
              "    <button class=\"colab-df-convert\" onclick=\"convertToInteractive('df-65bf1e69-ffc8-4dae-a2b2-fb00cdc2578b')\"\n",
              "            title=\"Convert this dataframe to an interactive table.\"\n",
              "            style=\"display:none;\">\n",
              "\n",
              "  <svg xmlns=\"http://www.w3.org/2000/svg\" height=\"24px\" viewBox=\"0 -960 960 960\">\n",
              "    <path d=\"M120-120v-720h720v720H120Zm60-500h600v-160H180v160Zm220 220h160v-160H400v160Zm0 220h160v-160H400v160ZM180-400h160v-160H180v160Zm440 0h160v-160H620v160ZM180-180h160v-160H180v160Zm440 0h160v-160H620v160Z\"/>\n",
              "  </svg>\n",
              "    </button>\n",
              "\n",
              "  <style>\n",
              "    .colab-df-container {\n",
              "      display:flex;\n",
              "      gap: 12px;\n",
              "    }\n",
              "\n",
              "    .colab-df-convert {\n",
              "      background-color: #E8F0FE;\n",
              "      border: none;\n",
              "      border-radius: 50%;\n",
              "      cursor: pointer;\n",
              "      display: none;\n",
              "      fill: #1967D2;\n",
              "      height: 32px;\n",
              "      padding: 0 0 0 0;\n",
              "      width: 32px;\n",
              "    }\n",
              "\n",
              "    .colab-df-convert:hover {\n",
              "      background-color: #E2EBFA;\n",
              "      box-shadow: 0px 1px 2px rgba(60, 64, 67, 0.3), 0px 1px 3px 1px rgba(60, 64, 67, 0.15);\n",
              "      fill: #174EA6;\n",
              "    }\n",
              "\n",
              "    .colab-df-buttons div {\n",
              "      margin-bottom: 4px;\n",
              "    }\n",
              "\n",
              "    [theme=dark] .colab-df-convert {\n",
              "      background-color: #3B4455;\n",
              "      fill: #D2E3FC;\n",
              "    }\n",
              "\n",
              "    [theme=dark] .colab-df-convert:hover {\n",
              "      background-color: #434B5C;\n",
              "      box-shadow: 0px 1px 3px 1px rgba(0, 0, 0, 0.15);\n",
              "      filter: drop-shadow(0px 1px 2px rgba(0, 0, 0, 0.3));\n",
              "      fill: #FFFFFF;\n",
              "    }\n",
              "  </style>\n",
              "\n",
              "    <script>\n",
              "      const buttonEl =\n",
              "        document.querySelector('#df-65bf1e69-ffc8-4dae-a2b2-fb00cdc2578b button.colab-df-convert');\n",
              "      buttonEl.style.display =\n",
              "        google.colab.kernel.accessAllowed ? 'block' : 'none';\n",
              "\n",
              "      async function convertToInteractive(key) {\n",
              "        const element = document.querySelector('#df-65bf1e69-ffc8-4dae-a2b2-fb00cdc2578b');\n",
              "        const dataTable =\n",
              "          await google.colab.kernel.invokeFunction('convertToInteractive',\n",
              "                                                    [key], {});\n",
              "        if (!dataTable) return;\n",
              "\n",
              "        const docLinkHtml = 'Like what you see? Visit the ' +\n",
              "          '<a target=\"_blank\" href=https://colab.research.google.com/notebooks/data_table.ipynb>data table notebook</a>'\n",
              "          + ' to learn more about interactive tables.';\n",
              "        element.innerHTML = '';\n",
              "        dataTable['output_type'] = 'display_data';\n",
              "        await google.colab.output.renderOutput(dataTable, element);\n",
              "        const docLink = document.createElement('div');\n",
              "        docLink.innerHTML = docLinkHtml;\n",
              "        element.appendChild(docLink);\n",
              "      }\n",
              "    </script>\n",
              "  </div>\n",
              "\n",
              "\n",
              "<div id=\"df-a6b627c0-38d4-4f8a-996f-3159a9caa58c\">\n",
              "  <button class=\"colab-df-quickchart\" onclick=\"quickchart('df-a6b627c0-38d4-4f8a-996f-3159a9caa58c')\"\n",
              "            title=\"Suggest charts\"\n",
              "            style=\"display:none;\">\n",
              "\n",
              "<svg xmlns=\"http://www.w3.org/2000/svg\" height=\"24px\"viewBox=\"0 0 24 24\"\n",
              "     width=\"24px\">\n",
              "    <g>\n",
              "        <path d=\"M19 3H5c-1.1 0-2 .9-2 2v14c0 1.1.9 2 2 2h14c1.1 0 2-.9 2-2V5c0-1.1-.9-2-2-2zM9 17H7v-7h2v7zm4 0h-2V7h2v10zm4 0h-2v-4h2v4z\"/>\n",
              "    </g>\n",
              "</svg>\n",
              "  </button>\n",
              "\n",
              "<style>\n",
              "  .colab-df-quickchart {\n",
              "      --bg-color: #E8F0FE;\n",
              "      --fill-color: #1967D2;\n",
              "      --hover-bg-color: #E2EBFA;\n",
              "      --hover-fill-color: #174EA6;\n",
              "      --disabled-fill-color: #AAA;\n",
              "      --disabled-bg-color: #DDD;\n",
              "  }\n",
              "\n",
              "  [theme=dark] .colab-df-quickchart {\n",
              "      --bg-color: #3B4455;\n",
              "      --fill-color: #D2E3FC;\n",
              "      --hover-bg-color: #434B5C;\n",
              "      --hover-fill-color: #FFFFFF;\n",
              "      --disabled-bg-color: #3B4455;\n",
              "      --disabled-fill-color: #666;\n",
              "  }\n",
              "\n",
              "  .colab-df-quickchart {\n",
              "    background-color: var(--bg-color);\n",
              "    border: none;\n",
              "    border-radius: 50%;\n",
              "    cursor: pointer;\n",
              "    display: none;\n",
              "    fill: var(--fill-color);\n",
              "    height: 32px;\n",
              "    padding: 0;\n",
              "    width: 32px;\n",
              "  }\n",
              "\n",
              "  .colab-df-quickchart:hover {\n",
              "    background-color: var(--hover-bg-color);\n",
              "    box-shadow: 0 1px 2px rgba(60, 64, 67, 0.3), 0 1px 3px 1px rgba(60, 64, 67, 0.15);\n",
              "    fill: var(--button-hover-fill-color);\n",
              "  }\n",
              "\n",
              "  .colab-df-quickchart-complete:disabled,\n",
              "  .colab-df-quickchart-complete:disabled:hover {\n",
              "    background-color: var(--disabled-bg-color);\n",
              "    fill: var(--disabled-fill-color);\n",
              "    box-shadow: none;\n",
              "  }\n",
              "\n",
              "  .colab-df-spinner {\n",
              "    border: 2px solid var(--fill-color);\n",
              "    border-color: transparent;\n",
              "    border-bottom-color: var(--fill-color);\n",
              "    animation:\n",
              "      spin 1s steps(1) infinite;\n",
              "  }\n",
              "\n",
              "  @keyframes spin {\n",
              "    0% {\n",
              "      border-color: transparent;\n",
              "      border-bottom-color: var(--fill-color);\n",
              "      border-left-color: var(--fill-color);\n",
              "    }\n",
              "    20% {\n",
              "      border-color: transparent;\n",
              "      border-left-color: var(--fill-color);\n",
              "      border-top-color: var(--fill-color);\n",
              "    }\n",
              "    30% {\n",
              "      border-color: transparent;\n",
              "      border-left-color: var(--fill-color);\n",
              "      border-top-color: var(--fill-color);\n",
              "      border-right-color: var(--fill-color);\n",
              "    }\n",
              "    40% {\n",
              "      border-color: transparent;\n",
              "      border-right-color: var(--fill-color);\n",
              "      border-top-color: var(--fill-color);\n",
              "    }\n",
              "    60% {\n",
              "      border-color: transparent;\n",
              "      border-right-color: var(--fill-color);\n",
              "    }\n",
              "    80% {\n",
              "      border-color: transparent;\n",
              "      border-right-color: var(--fill-color);\n",
              "      border-bottom-color: var(--fill-color);\n",
              "    }\n",
              "    90% {\n",
              "      border-color: transparent;\n",
              "      border-bottom-color: var(--fill-color);\n",
              "    }\n",
              "  }\n",
              "</style>\n",
              "\n",
              "  <script>\n",
              "    async function quickchart(key) {\n",
              "      const quickchartButtonEl =\n",
              "        document.querySelector('#' + key + ' button');\n",
              "      quickchartButtonEl.disabled = true;  // To prevent multiple clicks.\n",
              "      quickchartButtonEl.classList.add('colab-df-spinner');\n",
              "      try {\n",
              "        const charts = await google.colab.kernel.invokeFunction(\n",
              "            'suggestCharts', [key], {});\n",
              "      } catch (error) {\n",
              "        console.error('Error during call to suggestCharts:', error);\n",
              "      }\n",
              "      quickchartButtonEl.classList.remove('colab-df-spinner');\n",
              "      quickchartButtonEl.classList.add('colab-df-quickchart-complete');\n",
              "    }\n",
              "    (() => {\n",
              "      let quickchartButtonEl =\n",
              "        document.querySelector('#df-a6b627c0-38d4-4f8a-996f-3159a9caa58c button');\n",
              "      quickchartButtonEl.style.display =\n",
              "        google.colab.kernel.accessAllowed ? 'block' : 'none';\n",
              "    })();\n",
              "  </script>\n",
              "</div>\n",
              "    </div>\n",
              "  </div>\n"
            ]
          },
          "metadata": {},
          "execution_count": 15
        }
      ]
    },
    {
      "cell_type": "code",
      "source": [
        "df.rename(columns={'ada_embedding': 'embedding'}, inplace=True)\n",
        "df.head()"
      ],
      "metadata": {
        "colab": {
          "base_uri": "https://localhost:8080/",
          "height": 206
        },
        "id": "ZbuELrTwyc2I",
        "outputId": "47617706-7c01-4012-9581-3b27e7691148"
      },
      "execution_count": null,
      "outputs": [
        {
          "output_type": "execute_result",
          "data": {
            "text/plain": [
              "                                                text  \\\n",
              "0  How do you ensure that your data science model...   \n",
              "1  What tools and techniques do you use for data ...   \n",
              "2  Can you explain the concept and importance of ...   \n",
              "3  How would you handle imbalanced datasets in a ...   \n",
              "4  What is the difference between a Type I and Ty...   \n",
              "\n",
              "                                           embedding  \n",
              "0  [-0.0017857637722045183, -0.010468040592968464...  \n",
              "1  [0.0013928849948570132, -0.0002107492036884650...  \n",
              "2  [0.015783732756972313, -0.008996326476335526, ...  \n",
              "3  [-0.0062577431090176105, 0.012802968733012676,...  \n",
              "4  [0.01271655410528183, -0.0003393392253201455, ...  "
            ],
            "text/html": [
              "\n",
              "  <div id=\"df-77ec13a9-1b81-4e30-904d-31b35bfb96ac\" class=\"colab-df-container\">\n",
              "    <div>\n",
              "<style scoped>\n",
              "    .dataframe tbody tr th:only-of-type {\n",
              "        vertical-align: middle;\n",
              "    }\n",
              "\n",
              "    .dataframe tbody tr th {\n",
              "        vertical-align: top;\n",
              "    }\n",
              "\n",
              "    .dataframe thead th {\n",
              "        text-align: right;\n",
              "    }\n",
              "</style>\n",
              "<table border=\"1\" class=\"dataframe\">\n",
              "  <thead>\n",
              "    <tr style=\"text-align: right;\">\n",
              "      <th></th>\n",
              "      <th>text</th>\n",
              "      <th>embedding</th>\n",
              "    </tr>\n",
              "  </thead>\n",
              "  <tbody>\n",
              "    <tr>\n",
              "      <th>0</th>\n",
              "      <td>How do you ensure that your data science model...</td>\n",
              "      <td>[-0.0017857637722045183, -0.010468040592968464...</td>\n",
              "    </tr>\n",
              "    <tr>\n",
              "      <th>1</th>\n",
              "      <td>What tools and techniques do you use for data ...</td>\n",
              "      <td>[0.0013928849948570132, -0.0002107492036884650...</td>\n",
              "    </tr>\n",
              "    <tr>\n",
              "      <th>2</th>\n",
              "      <td>Can you explain the concept and importance of ...</td>\n",
              "      <td>[0.015783732756972313, -0.008996326476335526, ...</td>\n",
              "    </tr>\n",
              "    <tr>\n",
              "      <th>3</th>\n",
              "      <td>How would you handle imbalanced datasets in a ...</td>\n",
              "      <td>[-0.0062577431090176105, 0.012802968733012676,...</td>\n",
              "    </tr>\n",
              "    <tr>\n",
              "      <th>4</th>\n",
              "      <td>What is the difference between a Type I and Ty...</td>\n",
              "      <td>[0.01271655410528183, -0.0003393392253201455, ...</td>\n",
              "    </tr>\n",
              "  </tbody>\n",
              "</table>\n",
              "</div>\n",
              "    <div class=\"colab-df-buttons\">\n",
              "\n",
              "  <div class=\"colab-df-container\">\n",
              "    <button class=\"colab-df-convert\" onclick=\"convertToInteractive('df-77ec13a9-1b81-4e30-904d-31b35bfb96ac')\"\n",
              "            title=\"Convert this dataframe to an interactive table.\"\n",
              "            style=\"display:none;\">\n",
              "\n",
              "  <svg xmlns=\"http://www.w3.org/2000/svg\" height=\"24px\" viewBox=\"0 -960 960 960\">\n",
              "    <path d=\"M120-120v-720h720v720H120Zm60-500h600v-160H180v160Zm220 220h160v-160H400v160Zm0 220h160v-160H400v160ZM180-400h160v-160H180v160Zm440 0h160v-160H620v160ZM180-180h160v-160H180v160Zm440 0h160v-160H620v160Z\"/>\n",
              "  </svg>\n",
              "    </button>\n",
              "\n",
              "  <style>\n",
              "    .colab-df-container {\n",
              "      display:flex;\n",
              "      gap: 12px;\n",
              "    }\n",
              "\n",
              "    .colab-df-convert {\n",
              "      background-color: #E8F0FE;\n",
              "      border: none;\n",
              "      border-radius: 50%;\n",
              "      cursor: pointer;\n",
              "      display: none;\n",
              "      fill: #1967D2;\n",
              "      height: 32px;\n",
              "      padding: 0 0 0 0;\n",
              "      width: 32px;\n",
              "    }\n",
              "\n",
              "    .colab-df-convert:hover {\n",
              "      background-color: #E2EBFA;\n",
              "      box-shadow: 0px 1px 2px rgba(60, 64, 67, 0.3), 0px 1px 3px 1px rgba(60, 64, 67, 0.15);\n",
              "      fill: #174EA6;\n",
              "    }\n",
              "\n",
              "    .colab-df-buttons div {\n",
              "      margin-bottom: 4px;\n",
              "    }\n",
              "\n",
              "    [theme=dark] .colab-df-convert {\n",
              "      background-color: #3B4455;\n",
              "      fill: #D2E3FC;\n",
              "    }\n",
              "\n",
              "    [theme=dark] .colab-df-convert:hover {\n",
              "      background-color: #434B5C;\n",
              "      box-shadow: 0px 1px 3px 1px rgba(0, 0, 0, 0.15);\n",
              "      filter: drop-shadow(0px 1px 2px rgba(0, 0, 0, 0.3));\n",
              "      fill: #FFFFFF;\n",
              "    }\n",
              "  </style>\n",
              "\n",
              "    <script>\n",
              "      const buttonEl =\n",
              "        document.querySelector('#df-77ec13a9-1b81-4e30-904d-31b35bfb96ac button.colab-df-convert');\n",
              "      buttonEl.style.display =\n",
              "        google.colab.kernel.accessAllowed ? 'block' : 'none';\n",
              "\n",
              "      async function convertToInteractive(key) {\n",
              "        const element = document.querySelector('#df-77ec13a9-1b81-4e30-904d-31b35bfb96ac');\n",
              "        const dataTable =\n",
              "          await google.colab.kernel.invokeFunction('convertToInteractive',\n",
              "                                                    [key], {});\n",
              "        if (!dataTable) return;\n",
              "\n",
              "        const docLinkHtml = 'Like what you see? Visit the ' +\n",
              "          '<a target=\"_blank\" href=https://colab.research.google.com/notebooks/data_table.ipynb>data table notebook</a>'\n",
              "          + ' to learn more about interactive tables.';\n",
              "        element.innerHTML = '';\n",
              "        dataTable['output_type'] = 'display_data';\n",
              "        await google.colab.output.renderOutput(dataTable, element);\n",
              "        const docLink = document.createElement('div');\n",
              "        docLink.innerHTML = docLinkHtml;\n",
              "        element.appendChild(docLink);\n",
              "      }\n",
              "    </script>\n",
              "  </div>\n",
              "\n",
              "\n",
              "<div id=\"df-471c00f7-4bae-4f76-8119-e1876ace4c8e\">\n",
              "  <button class=\"colab-df-quickchart\" onclick=\"quickchart('df-471c00f7-4bae-4f76-8119-e1876ace4c8e')\"\n",
              "            title=\"Suggest charts\"\n",
              "            style=\"display:none;\">\n",
              "\n",
              "<svg xmlns=\"http://www.w3.org/2000/svg\" height=\"24px\"viewBox=\"0 0 24 24\"\n",
              "     width=\"24px\">\n",
              "    <g>\n",
              "        <path d=\"M19 3H5c-1.1 0-2 .9-2 2v14c0 1.1.9 2 2 2h14c1.1 0 2-.9 2-2V5c0-1.1-.9-2-2-2zM9 17H7v-7h2v7zm4 0h-2V7h2v10zm4 0h-2v-4h2v4z\"/>\n",
              "    </g>\n",
              "</svg>\n",
              "  </button>\n",
              "\n",
              "<style>\n",
              "  .colab-df-quickchart {\n",
              "      --bg-color: #E8F0FE;\n",
              "      --fill-color: #1967D2;\n",
              "      --hover-bg-color: #E2EBFA;\n",
              "      --hover-fill-color: #174EA6;\n",
              "      --disabled-fill-color: #AAA;\n",
              "      --disabled-bg-color: #DDD;\n",
              "  }\n",
              "\n",
              "  [theme=dark] .colab-df-quickchart {\n",
              "      --bg-color: #3B4455;\n",
              "      --fill-color: #D2E3FC;\n",
              "      --hover-bg-color: #434B5C;\n",
              "      --hover-fill-color: #FFFFFF;\n",
              "      --disabled-bg-color: #3B4455;\n",
              "      --disabled-fill-color: #666;\n",
              "  }\n",
              "\n",
              "  .colab-df-quickchart {\n",
              "    background-color: var(--bg-color);\n",
              "    border: none;\n",
              "    border-radius: 50%;\n",
              "    cursor: pointer;\n",
              "    display: none;\n",
              "    fill: var(--fill-color);\n",
              "    height: 32px;\n",
              "    padding: 0;\n",
              "    width: 32px;\n",
              "  }\n",
              "\n",
              "  .colab-df-quickchart:hover {\n",
              "    background-color: var(--hover-bg-color);\n",
              "    box-shadow: 0 1px 2px rgba(60, 64, 67, 0.3), 0 1px 3px 1px rgba(60, 64, 67, 0.15);\n",
              "    fill: var(--button-hover-fill-color);\n",
              "  }\n",
              "\n",
              "  .colab-df-quickchart-complete:disabled,\n",
              "  .colab-df-quickchart-complete:disabled:hover {\n",
              "    background-color: var(--disabled-bg-color);\n",
              "    fill: var(--disabled-fill-color);\n",
              "    box-shadow: none;\n",
              "  }\n",
              "\n",
              "  .colab-df-spinner {\n",
              "    border: 2px solid var(--fill-color);\n",
              "    border-color: transparent;\n",
              "    border-bottom-color: var(--fill-color);\n",
              "    animation:\n",
              "      spin 1s steps(1) infinite;\n",
              "  }\n",
              "\n",
              "  @keyframes spin {\n",
              "    0% {\n",
              "      border-color: transparent;\n",
              "      border-bottom-color: var(--fill-color);\n",
              "      border-left-color: var(--fill-color);\n",
              "    }\n",
              "    20% {\n",
              "      border-color: transparent;\n",
              "      border-left-color: var(--fill-color);\n",
              "      border-top-color: var(--fill-color);\n",
              "    }\n",
              "    30% {\n",
              "      border-color: transparent;\n",
              "      border-left-color: var(--fill-color);\n",
              "      border-top-color: var(--fill-color);\n",
              "      border-right-color: var(--fill-color);\n",
              "    }\n",
              "    40% {\n",
              "      border-color: transparent;\n",
              "      border-right-color: var(--fill-color);\n",
              "      border-top-color: var(--fill-color);\n",
              "    }\n",
              "    60% {\n",
              "      border-color: transparent;\n",
              "      border-right-color: var(--fill-color);\n",
              "    }\n",
              "    80% {\n",
              "      border-color: transparent;\n",
              "      border-right-color: var(--fill-color);\n",
              "      border-bottom-color: var(--fill-color);\n",
              "    }\n",
              "    90% {\n",
              "      border-color: transparent;\n",
              "      border-bottom-color: var(--fill-color);\n",
              "    }\n",
              "  }\n",
              "</style>\n",
              "\n",
              "  <script>\n",
              "    async function quickchart(key) {\n",
              "      const quickchartButtonEl =\n",
              "        document.querySelector('#' + key + ' button');\n",
              "      quickchartButtonEl.disabled = true;  // To prevent multiple clicks.\n",
              "      quickchartButtonEl.classList.add('colab-df-spinner');\n",
              "      try {\n",
              "        const charts = await google.colab.kernel.invokeFunction(\n",
              "            'suggestCharts', [key], {});\n",
              "      } catch (error) {\n",
              "        console.error('Error during call to suggestCharts:', error);\n",
              "      }\n",
              "      quickchartButtonEl.classList.remove('colab-df-spinner');\n",
              "      quickchartButtonEl.classList.add('colab-df-quickchart-complete');\n",
              "    }\n",
              "    (() => {\n",
              "      let quickchartButtonEl =\n",
              "        document.querySelector('#df-471c00f7-4bae-4f76-8119-e1876ace4c8e button');\n",
              "      quickchartButtonEl.style.display =\n",
              "        google.colab.kernel.accessAllowed ? 'block' : 'none';\n",
              "    })();\n",
              "  </script>\n",
              "</div>\n",
              "    </div>\n",
              "  </div>\n"
            ]
          },
          "metadata": {},
          "execution_count": 16
        }
      ]
    },
    {
      "cell_type": "markdown",
      "source": [
        "## Custom Query Completion\n",
        "\n",
        "TODO: In the cells below, compose a custom query using your chosen dataset and retrieve results from an OpenAI `Completion` model."
      ],
      "metadata": {
        "id": "zNpGMRsD-KFw"
      }
    },
    {
      "cell_type": "code",
      "source": [
        "openai.api_key = 'key'  # Replace with your actual API key"
      ],
      "metadata": {
        "id": "SpOnam5xxv-c"
      },
      "execution_count": 5,
      "outputs": []
    },
    {
      "cell_type": "code",
      "source": [
        "def strings_ranked_by_relatedness(\n",
        "        query: str,\n",
        "        df: pd.DataFrame,\n",
        "        relatedness_fn=lambda x, y: 1 - spatial.distance.cosine(x, y),\n",
        "        top_n: int = 100\n",
        ") -> Tuple[List[str], List[float]]:\n",
        "    \"\"\"Returns a list of strings and relatednesses, sorted from most related to least.\"\"\"\n",
        "    query_embedding_response = openai.Embedding.create(\n",
        "        model=\"text-embedding-ada-002\",\n",
        "        input=query,\n",
        "    )\n",
        "    query_embedding = np.array(query_embedding_response[\"data\"][0][\"embedding\"])\n",
        "    if len(query_embedding.shape) != 1:\n",
        "        query_embedding = np.reshape(query_embedding, -1)  # Reshape to 1-D if not already\n",
        "\n",
        "    strings_and_relatednesses = []\n",
        "    for _, row in df.iterrows():\n",
        "        # Convert the string representation of embedding to numpy array\n",
        "        row_embedding = np.fromstring(row[\"embedding\"].strip('[]'), sep=',')\n",
        "        relatedness = relatedness_fn(query_embedding, row_embedding)\n",
        "        strings_and_relatednesses.append((row[\"text\"], relatedness))\n",
        "\n",
        "    strings_and_relatednesses.sort(key=lambda x: x[1], reverse=True)\n",
        "    strings, relatednesses = zip(*strings_and_relatednesses)\n",
        "    return list(strings)[:top_n], list(relatednesses)[:top_n]"
      ],
      "metadata": {
        "id": "b0H7QXlGx335"
      },
      "execution_count": null,
      "outputs": []
    },
    {
      "cell_type": "code",
      "source": [
        "# examples\n",
        "strings, relatednesses = strings_ranked_by_relatedness(\"Machine learning\", df, top_n=5)\n",
        "for string, relatedness in zip(strings, relatednesses):\n",
        "    print(f\"{relatedness=:.3f}\")\n",
        "    display(string)"
      ],
      "metadata": {
        "colab": {
          "base_uri": "https://localhost:8080/",
          "height": 195
        },
        "id": "nWuigTOqx5X0",
        "outputId": "80986483-9cac-4a9b-906f-e2c3081ec99f"
      },
      "execution_count": null,
      "outputs": [
        {
          "output_type": "stream",
          "name": "stdout",
          "text": [
            "relatedness=0.855\n"
          ]
        },
        {
          "output_type": "display_data",
          "data": {
            "text/plain": [
              "'Can you discuss your experience with automated machine learning (AutoML)?'"
            ],
            "application/vnd.google.colaboratory.intrinsic+json": {
              "type": "string"
            }
          },
          "metadata": {}
        },
        {
          "output_type": "stream",
          "name": "stdout",
          "text": [
            "relatedness=0.852\n"
          ]
        },
        {
          "output_type": "display_data",
          "data": {
            "text/plain": [
              "'Can you explain the use of optimization algorithms in machine learning?'"
            ],
            "application/vnd.google.colaboratory.intrinsic+json": {
              "type": "string"
            }
          },
          "metadata": {}
        },
        {
          "output_type": "stream",
          "name": "stdout",
          "text": [
            "relatedness=0.852\n"
          ]
        },
        {
          "output_type": "display_data",
          "data": {
            "text/plain": [
              "'Can you explain the application of machine learning in weather forecasting and climate modeling?'"
            ],
            "application/vnd.google.colaboratory.intrinsic+json": {
              "type": "string"
            }
          },
          "metadata": {}
        },
        {
          "output_type": "stream",
          "name": "stdout",
          "text": [
            "relatedness=0.852\n"
          ]
        },
        {
          "output_type": "display_data",
          "data": {
            "text/plain": [
              "'Can you discuss the application of quantum machine learning?'"
            ],
            "application/vnd.google.colaboratory.intrinsic+json": {
              "type": "string"
            }
          },
          "metadata": {}
        },
        {
          "output_type": "stream",
          "name": "stdout",
          "text": [
            "relatedness=0.851\n"
          ]
        },
        {
          "output_type": "display_data",
          "data": {
            "text/plain": [
              "'Can you explain the role of machine learning in audio signal processing and music analysis?'"
            ],
            "application/vnd.google.colaboratory.intrinsic+json": {
              "type": "string"
            }
          },
          "metadata": {}
        }
      ]
    },
    {
      "cell_type": "markdown",
      "source": [
        "Relatedness shows 85% accuracy which is great in my opinion as our dataset is completely based on questions and not on text."
      ],
      "metadata": {
        "id": "qKYHOxgK-M7f"
      }
    },
    {
      "cell_type": "markdown",
      "source": [
        "## Custom Performance Demonstration\n",
        "\n",
        "TODO: In the cells below, demonstrate the performance of your custom query using at least 2 questions. For each question, show the answer from a basic `Completion` model query as well as the answer from your custom query."
      ],
      "metadata": {
        "id": "OiwSp2rF_Zog"
      }
    },
    {
      "cell_type": "code",
      "source": [
        "# Number of tokens used\n",
        "\n",
        "def num_tokens(text: str, model: str = \"gpt-3.5-turbo\") -> int:\n",
        "    \"\"\"Return the number of tokens in a string.\"\"\"\n",
        "    encoding = tiktoken.encoding_for_model(model)\n",
        "    return len(encoding.encode(text))\n"
      ],
      "metadata": {
        "id": "u5fcv8Xy1Gcc"
      },
      "execution_count": null,
      "outputs": []
    },
    {
      "cell_type": "code",
      "source": [
        "# Setting Personality\n",
        "\n",
        "def query_message(\n",
        "    query: str,\n",
        "    df: pd.DataFrame,\n",
        "    model: str,\n",
        "    token_budget: int\n",
        ") -> str:\n",
        "    \"\"\"Return a message for GPT, with relevant source texts pulled from a dataframe.\"\"\"\n",
        "    strings, relatednesses = strings_ranked_by_relatedness(query, df)\n",
        "    introduction = \"\"\"\n",
        "Task: Assume the role of a Senior Data Scientist at Google, specializing in recent technologies like LLMs and long-chain algorithms.\n",
        "\n",
        "1. Interview Simulation: Conduct mock interviews for positions like Data Scientist, Data Analyst, AI Engineer, and ML Engineer. Pose relevant, up-to-date data science questions.\n",
        "2. Response Evaluation: After receiving an answer, rate it on a scale of 1-10 based on accuracy and relevance.\n",
        "3. Feedback Provision: Offer concise, specific feedback, highlighting inaccuracies or areas for improvement in the answer.\n",
        "4. Topic Adherence: Ensure the discussion remains focused on data science. If the conversation strays, remind participants to stay on topic.\n",
        "5. Expertise Utilization: Utilize your expertise to provide responses that reflect current industry standards and knowledge in data science.\n",
        "\n",
        "The goal is to simulate a realistic interview environment, providing practical learning opportunities in data science.\n",
        "Use the questions below for reference on what to ask.\"\"\"\n",
        "    question = f\"\\n\\nQuestion: {query}\"\n",
        "    message = introduction\n",
        "    for string in strings:\n",
        "        if (\n",
        "            num_tokens(message + question, model=model)\n",
        "            > token_budget\n",
        "        ):\n",
        "            break\n",
        "        else:\n",
        "            message += \"\"\n",
        "    return message + question\n",
        "\n",
        "\n",
        "# Asking questions\n",
        "\n",
        "def ask(\n",
        "    query: str,\n",
        "    df: pd.DataFrame = df,\n",
        "    model: str = \"gpt-3.5-turbo\",\n",
        "    token_budget: int = 4096 - 500,\n",
        "    print_message: bool = False,\n",
        ") -> str:\n",
        "    \"\"\"Answers a query using GPT and a dataframe of relevant texts and embeddings.\"\"\"\n",
        "    message = query_message(query, df, model=model, token_budget=token_budget)\n",
        "    if print_message:\n",
        "        print(message)\n",
        "    messages = [\n",
        "        {\"role\": \"system\", \"content\": \"Here are the questions: \"},\n",
        "        {\"role\": \"user\", \"content\": message},\n",
        "    ]\n",
        "    response = openai.ChatCompletion.create(\n",
        "        model=model,\n",
        "        messages=messages,\n",
        "        temperature=0\n",
        "    )\n",
        "    response_message = response[\"choices\"][0][\"message\"][\"content\"]\n",
        "    return response_message"
      ],
      "metadata": {
        "id": "wMmvcNEu7EPQ"
      },
      "execution_count": null,
      "outputs": []
    },
    {
      "cell_type": "code",
      "source": [
        "ask('Give me one question on machine learning.')"
      ],
      "metadata": {
        "colab": {
          "base_uri": "https://localhost:8080/",
          "height": 53
        },
        "id": "voFJ9nPd84yP",
        "outputId": "b50fa59a-6447-420f-ff6e-e919dd6abd79"
      },
      "execution_count": null,
      "outputs": [
        {
          "output_type": "execute_result",
          "data": {
            "text/plain": [
              "\"Sure! Here's a question on machine learning:\\n\\nQuestion: Can you explain the concept of overfitting in machine learning and how it can be addressed?\\n\\nPlease provide your answer, and I will evaluate it on a scale of 1-10 based on accuracy and relevance.\""
            ],
            "application/vnd.google.colaboratory.intrinsic+json": {
              "type": "string"
            }
          },
          "metadata": {},
          "execution_count": 11
        }
      ]
    },
    {
      "cell_type": "code",
      "source": [
        "ask(\"Who won valorant esports in 2022?\")"
      ],
      "metadata": {
        "colab": {
          "base_uri": "https://localhost:8080/",
          "height": 53
        },
        "id": "8ysqSBeL9J6J",
        "outputId": "c5196d44-d238-4875-daad-3ad55fc6126e"
      },
      "execution_count": null,
      "outputs": [
        {
          "output_type": "execute_result",
          "data": {
            "text/plain": [
              "\"I'm sorry, but I'm unable to answer that question as it falls outside the scope of my expertise as a language model AI. My knowledge is based on a wide range of topics, but it does not include up-to-date information on specific esports events or winners. Is there anything else I can assist you with related to data science or technology?\""
            ],
            "application/vnd.google.colaboratory.intrinsic+json": {
              "type": "string"
            }
          },
          "metadata": {},
          "execution_count": 12
        }
      ]
    },
    {
      "cell_type": "code",
      "source": [
        "ask('Give me a question based on the given dataset')"
      ],
      "metadata": {
        "colab": {
          "base_uri": "https://localhost:8080/",
          "height": 70
        },
        "id": "Iyux3ukToZSu",
        "outputId": "ccd4eaa7-6ecb-4c95-d8aa-4e6ffcf4195d"
      },
      "execution_count": null,
      "outputs": [
        {
          "output_type": "execute_result",
          "data": {
            "text/plain": [
              "\"Sure! Here's a question based on a dataset:\\n\\nQuestion: You are given a dataset containing information about customer transactions at an online retail store. The dataset includes columns such as customer ID, product ID, purchase date, quantity, and price. Your task is to analyze the data and provide insights to improve the store's sales performance. What steps would you take to approach this analysis?\\n\\nPlease provide your answer, and I will evaluate it based on accuracy and relevance.\""
            ],
            "application/vnd.google.colaboratory.intrinsic+json": {
              "type": "string"
            }
          },
          "metadata": {},
          "execution_count": 13
        }
      ]
    },
    {
      "cell_type": "code",
      "source": [
        "ask('Machine learning')"
      ],
      "metadata": {
        "colab": {
          "base_uri": "https://localhost:8080/",
          "height": 106
        },
        "id": "qfHpjPSiowkI",
        "outputId": "def9e772-b015-44f0-a589-d516a39becb1"
      },
      "execution_count": null,
      "outputs": [
        {
          "output_type": "execute_result",
          "data": {
            "text/plain": [
              "'1. What is the difference between supervised and unsupervised learning?\\n2. Can you explain the bias-variance tradeoff in machine learning?\\n3. What is regularization in machine learning and why is it important?\\n4. How do decision trees work in machine learning?\\n5. What is the purpose of cross-validation in machine learning?\\n6. Can you explain the concept of feature selection in machine learning?\\n7. What is the difference between bagging and boosting in ensemble learning?\\n8. Can you explain the concept of gradient descent in machine learning?\\n9. What is the difference between classification and regression in machine learning?\\n10. Can you explain the concept of overfitting in machine learning and how to address it?\\n\\nRemember to rate the responses on a scale of 1-10 based on accuracy and relevance, and provide specific feedback to help the interviewee improve their answers.'"
            ],
            "application/vnd.google.colaboratory.intrinsic+json": {
              "type": "string"
            }
          },
          "metadata": {},
          "execution_count": 15
        }
      ]
    },
    {
      "cell_type": "code",
      "source": [
        "ask('mathematical modeling')"
      ],
      "metadata": {
        "colab": {
          "base_uri": "https://localhost:8080/",
          "height": 177
        },
        "id": "y7WuNf-ipYhv",
        "outputId": "38e5dcc0-5715-4118-b2e1-176ae7c2b995"
      },
      "execution_count": null,
      "outputs": [
        {
          "output_type": "execute_result",
          "data": {
            "text/plain": [
              "'1. Can you explain what mathematical modeling is and its importance in data science?\\n\\n2. How would you approach building a mathematical model for a real-world problem? Can you walk me through the steps involved?\\n\\n3. What are some common mathematical models used in data science, and what are their applications?\\n\\n4. Can you explain the concept of parameter estimation in mathematical modeling? How is it done, and why is it important?\\n\\n5. How do you validate a mathematical model? What techniques or methods do you use to ensure its accuracy and reliability?\\n\\n6. Can you discuss the limitations or challenges of mathematical modeling in data science? How do you address these challenges?\\n\\n7. In your experience, what are some best practices for effectively communicating the results of a mathematical model to stakeholders or non-technical audiences?\\n\\n8. How do you handle situations where the data available for modeling is incomplete or contains outliers? What techniques or approaches do you use to address these issues?\\n\\n9. Can you provide an example of a successful application of mathematical modeling in a real-world scenario? What was the problem, and how did the model contribute to its solution?\\n\\n10. How do you stay updated with the latest advancements and techniques in mathematical modeling? Can you provide examples of any recent developments that have caught your attention?\\n\\nRemember to rate the responses on a scale of 1-10 based on accuracy and relevance, and provide specific feedback to help the interviewee improve their answers.'"
            ],
            "application/vnd.google.colaboratory.intrinsic+json": {
              "type": "string"
            }
          },
          "metadata": {},
          "execution_count": 16
        }
      ]
    },
    {
      "cell_type": "markdown",
      "source": [
        "Ok so it successfully generated us questions and some of them weren't on our dataset.\n",
        "\n",
        "Let's try changing the prompt and see what output it gives.\n",
        "\n"
      ],
      "metadata": {
        "id": "J-ivm2n9px_P"
      }
    },
    {
      "cell_type": "code",
      "source": [
        "# Setting Personality\n",
        "\n",
        "def query_message(\n",
        "    query: str,\n",
        "    df: pd.DataFrame,\n",
        "    model: str,\n",
        "    token_budget: int\n",
        ") -> str:\n",
        "    \"\"\"Return a message for GPT, with relevant source texts pulled from a dataframe.\"\"\"\n",
        "    strings, relatednesses = strings_ranked_by_relatedness(query, df)\n",
        "    introduction = introduction = 'Use the below questions to generate questions. If you arent able to generate then simply give \"Sorry i cant generate it.\" as response'\n",
        "    question = f\"\\n\\nQuestion: {query}\"\n",
        "    message = introduction\n",
        "    for string in strings:\n",
        "        if (\n",
        "            num_tokens(message + question, model=model)\n",
        "            > token_budget\n",
        "        ):\n",
        "            break\n",
        "        else:\n",
        "            message += \"\"\n",
        "    return message + question\n",
        "\n",
        "\n",
        "# Asking questions\n",
        "\n",
        "def ask(\n",
        "    query: str,\n",
        "    df: pd.DataFrame = df,\n",
        "    model: str = \"gpt-3.5-turbo\",\n",
        "    token_budget: int = 4096 - 500,\n",
        "    print_message: bool = False,\n",
        ") -> str:\n",
        "    \"\"\"Answers a query using GPT and a dataframe of relevant texts and embeddings.\"\"\"\n",
        "    message = query_message(query, df, model=model, token_budget=token_budget)\n",
        "    if print_message:\n",
        "        print(message)\n",
        "    messages = [\n",
        "        {\"role\": \"system\", \"content\": \"Here are the questions: \"},\n",
        "        {\"role\": \"user\", \"content\": message},\n",
        "    ]\n",
        "    response = openai.ChatCompletion.create(\n",
        "        model=model,\n",
        "        messages=messages,\n",
        "        temperature=0\n",
        "    )\n",
        "    response_message = response[\"choices\"][0][\"message\"][\"content\"]\n",
        "    return response_message"
      ],
      "metadata": {
        "id": "xmZuZjz_pxOH"
      },
      "execution_count": null,
      "outputs": []
    },
    {
      "cell_type": "code",
      "source": [
        "ask(\"Give me one question on Machine learning.\")"
      ],
      "metadata": {
        "colab": {
          "base_uri": "https://localhost:8080/",
          "height": 35
        },
        "id": "iAnhXKBWq2J_",
        "outputId": "725ee5a8-8100-4b32-c202-f3d17c16d587"
      },
      "execution_count": null,
      "outputs": [
        {
          "output_type": "execute_result",
          "data": {
            "text/plain": [
              "'What are some common algorithms used in machine learning?'"
            ],
            "application/vnd.google.colaboratory.intrinsic+json": {
              "type": "string"
            }
          },
          "metadata": {},
          "execution_count": 18
        }
      ]
    },
    {
      "cell_type": "markdown",
      "source": [
        "Again, it generated new question which wasn't in our dataset."
      ],
      "metadata": {
        "id": "DjBEDUBvrBpi"
      }
    },
    {
      "cell_type": "code",
      "source": [
        "ask(\"Whats after this question: How do you use convolutional neural networks for object detection?\")"
      ],
      "metadata": {
        "colab": {
          "base_uri": "https://localhost:8080/",
          "height": 35
        },
        "id": "lnDfxq08rGlJ",
        "outputId": "1467d5d5-1c81-404a-f396-8b819e2d3420"
      },
      "execution_count": null,
      "outputs": [
        {
          "output_type": "execute_result",
          "data": {
            "text/plain": [
              "\"Sorry, I can't generate it.\""
            ],
            "application/vnd.google.colaboratory.intrinsic+json": {
              "type": "string"
            }
          },
          "metadata": {},
          "execution_count": 19
        }
      ]
    },
    {
      "cell_type": "markdown",
      "source": [
        "Lets make it stick to generating our questions strictly."
      ],
      "metadata": {
        "id": "XIDu6ZWywKWf"
      }
    },
    {
      "cell_type": "code",
      "source": [
        "file_path = '/content/gdrive/MyDrive/Colab Notebooks/DSQs.txt'\n",
        "with open(file_path, 'r') as file:\n",
        "    lines = [line.strip() for line in file]"
      ],
      "metadata": {
        "id": "NWKLwK1srkjD"
      },
      "execution_count": null,
      "outputs": []
    },
    {
      "cell_type": "code",
      "source": [
        "questions_string = '\\n'.join(lines)\n",
        "query = f\"\"\"Use the below questions, remember them and strictly stick to generating one of those questions. As an example, if a user says: 'Machine learning', you should search for the first machine learning question that pops up in these lines and give the output.\\n\\nQuestions:\\n{questions_string}\"\"\"\n",
        "# Prepare the messages for the ChatCompletion request\n",
        "messages = [\n",
        "    {'role': 'system', 'content': query},\n",
        "    {'role': 'user', 'content': 'Give me two questions on machine learning.'},\n",
        "]\n",
        "\n",
        "# Create a response using OpenAI's ChatCompletion\n",
        "response = openai.ChatCompletion.create(\n",
        "    messages=messages,\n",
        "    model='gpt-3.5-turbo',\n",
        "    temperature=0,\n",
        ")\n",
        "\n",
        "print(response['choices'][0]['message']['content'])"
      ],
      "metadata": {
        "colab": {
          "base_uri": "https://localhost:8080/"
        },
        "id": "Lzr3navUtFuh",
        "outputId": "d24aa38a-6a40-409e-99ba-fa8c286f97e7"
      },
      "execution_count": null,
      "outputs": [
        {
          "output_type": "stream",
          "name": "stdout",
          "text": [
            "1. How do you ensure that your data science models are fair and unbiased?\n",
            "2. How do you approach feature selection in a dataset?\n"
          ]
        }
      ]
    },
    {
      "cell_type": "markdown",
      "source": [
        "We got an better understanding on how to train and test GPT on our dataset, but what if GPT was already pre-trained before our training, like it knew and was familiar with our dataset ?"
      ],
      "metadata": {
        "id": "I_BJzMYPpus-"
      }
    },
    {
      "cell_type": "markdown",
      "source": [
        "# Assuming GPT-3.5 is trained on our dataset before implementation, let's feed something new and latest data for better understanding on how it works."
      ],
      "metadata": {
        "id": "DvVkS4BCn8Pu"
      }
    },
    {
      "cell_type": "code",
      "source": [
        "query = f\"\"\"Answer the question\"\"\"\n",
        "# Prepare the messages for the ChatCompletion request\n",
        "messages = [\n",
        "    {'role': 'system', 'content': query},\n",
        "    {'role': 'user', 'content': 'When did Hamas-Israel war started ?'},\n",
        "]\n",
        "\n",
        "# Create a response using OpenAI's ChatCompletion\n",
        "response = openai.ChatCompletion.create(\n",
        "    messages=messages,\n",
        "    model='gpt-3.5-turbo',\n",
        "    temperature=0,\n",
        ")\n",
        "\n",
        "print(response['choices'][0]['message']['content'])"
      ],
      "metadata": {
        "colab": {
          "base_uri": "https://localhost:8080/"
        },
        "id": "5lOPVLPkmvFE",
        "outputId": "164b11c3-f9c7-431f-8117-6acd37445037"
      },
      "execution_count": 10,
      "outputs": [
        {
          "output_type": "stream",
          "name": "stdout",
          "text": [
            "The most recent major conflict between Hamas and Israel, known as the 2021 Israel-Hamas conflict, began on May 10, 2021.\n"
          ]
        }
      ]
    },
    {
      "cell_type": "code",
      "source": [
        "query = f\"\"\"Answer the question\"\"\"\n",
        "# Prepare the messages for the ChatCompletion request\n",
        "messages = [\n",
        "    {'role': 'system', 'content': query},\n",
        "    {'role': 'user', 'content': 'Do you know about current 2023 on-going war on Israel-Hamas ?'},\n",
        "]\n",
        "\n",
        "# Create a response using OpenAI's ChatCompletion\n",
        "response = openai.ChatCompletion.create(\n",
        "    messages=messages,\n",
        "    model='gpt-3.5-turbo',\n",
        "    temperature=0,\n",
        ")\n",
        "\n",
        "print(response['choices'][0]['message']['content'])"
      ],
      "metadata": {
        "colab": {
          "base_uri": "https://localhost:8080/"
        },
        "id": "kf-tZnt9z8qT",
        "outputId": "4872d017-9263-4060-fd1f-dae8ac074304"
      },
      "execution_count": 11,
      "outputs": [
        {
          "output_type": "stream",
          "name": "stdout",
          "text": [
            "Yes, I am aware of the ongoing conflict between Israel and Hamas in 2023. The conflict began in May 2023 when tensions escalated between Israel and Hamas, a Palestinian militant group that controls the Gaza Strip. The immediate trigger for the conflict was a series of clashes between Palestinians and Israeli security forces in Jerusalem, particularly around the Al-Aqsa Mosque compound, which is a holy site for both Muslims and Jews.\n",
            "\n",
            "Following these clashes, Hamas launched rocket attacks towards Israeli cities, and Israel responded with airstrikes targeting Hamas infrastructure in the Gaza Strip. The conflict has resulted in significant casualties and destruction on both sides, with civilians bearing the brunt of the violence.\n",
            "\n",
            "Efforts to broker a ceasefire and de-escalate the situation have been ongoing, with various international actors, including the United Nations, Egypt, and Qatar, involved in mediation efforts. However, as of now, a lasting ceasefire has not been achieved, and the conflict continues to escalate with intermittent periods of intense violence.\n",
            "\n",
            "It is important to note that the situation is dynamic, and developments may have occurred since the time of this response.\n"
          ]
        }
      ]
    },
    {
      "cell_type": "code",
      "source": [
        "query = f\"\"\"Answer the question\"\"\"\n",
        "# Prepare the messages for the ChatCompletion request\n",
        "messages = [\n",
        "    {'role': 'system', 'content': query},\n",
        "    {'role': 'user', 'content': 'Do you Know what happened in November 2023 in Israel-Hamas war?'},\n",
        "]\n",
        "\n",
        "# Create a response using OpenAI's ChatCompletion\n",
        "response = openai.ChatCompletion.create(\n",
        "    messages=messages,\n",
        "    model='gpt-3.5-turbo',\n",
        "    temperature=0,\n",
        ")\n",
        "\n",
        "print(response['choices'][0]['message']['content'])"
      ],
      "metadata": {
        "colab": {
          "base_uri": "https://localhost:8080/"
        },
        "id": "BLOqEa_g0R0b",
        "outputId": "9220a387-c9b2-4e25-a977-544c1a42b78b"
      },
      "execution_count": 12,
      "outputs": [
        {
          "output_type": "stream",
          "name": "stdout",
          "text": [
            "I'm sorry, but as an AI language model, I don't have access to real-time information or the ability to browse the internet. Therefore, I cannot provide specific details about events that may occur in the future, such as the Israel-Hamas war in November 2023. It's best to refer to reliable news sources for the most up-to-date information on current events.\n"
          ]
        }
      ]
    },
    {
      "cell_type": "markdown",
      "source": [
        "We can clearly see that it doesn't know anything about current on-going 2023 war on Israel-Hamas, perfect opportunity for us to train this GPT on our dataset"
      ],
      "metadata": {
        "id": "hUOgsPJLxP0t"
      }
    },
    {
      "cell_type": "markdown",
      "source": [
        "### Now lets make embeddings"
      ],
      "metadata": {
        "id": "G5az7ric1P8U"
      }
    },
    {
      "cell_type": "code",
      "source": [
        "# Load data\n",
        "df = pd.read_csv(\"/content/gdrive/MyDrive/Colab Notebooks/2023-Israel-Hamas-War.csv\")\n",
        "\n",
        "# Ensure all text entries are strings\n",
        "df['text'] = df['text'].astype(str)\n",
        "\n",
        "# OpenAI client\n",
        "openai.api_key = \"key\"\n",
        "\n",
        "# Function to get embedding\n",
        "def get_embedding(text, model=\"text-embedding-ada-002\"):\n",
        "    text = text.replace(\"\\n\", \" \")\n",
        "    return openai.Embedding.create(input=[text], model=model).data[0].embedding\n",
        "\n",
        "df['embedding'] = df['text'].apply(lambda x: get_embedding(x, model='text-embedding-ada-002'))\n",
        "\n",
        "# Save to CSV\n",
        "df.to_csv(\"/content/gdrive/MyDrive/Colab Notebooks/War_embedded.csv\")"
      ],
      "metadata": {
        "id": "UoA2DiOu7C6A"
      },
      "execution_count": 17,
      "outputs": []
    },
    {
      "cell_type": "code",
      "source": [
        "df = pd.read_csv(\"/content/gdrive/MyDrive/Colab Notebooks/War_embedded.csv\")\n",
        "df.head()"
      ],
      "metadata": {
        "colab": {
          "base_uri": "https://localhost:8080/",
          "height": 206
        },
        "id": "Dw-2P8937nSs",
        "outputId": "1b4d1c84-aa63-4158-8b58-3a5e6c76a73a"
      },
      "execution_count": 20,
      "outputs": [
        {
          "output_type": "execute_result",
          "data": {
            "text/plain": [
              "   Unnamed: 0                                               text  \\\n",
              "0           0  2023 Israel Hamas war  An ongoing armed confli...   \n",
              "1           1  On that day, Hamas-led Palestinian militants[o...   \n",
              "2           2  The surprise attack comprised a barrage of roc...   \n",
              "3           3  At least 846 Israeli civilians and 324 soldier...   \n",
              "4           4  Hamas stated that its attack was in response t...   \n",
              "\n",
              "                                           embedding  \n",
              "0  [-0.03198346123099327, -0.020022273063659668, ...  \n",
              "1  [-0.0326392836868763, -0.007378561422228813, 0...  \n",
              "2  [-0.011929569765925407, -0.008353897370398045,...  \n",
              "3  [-0.004879564046859741, 0.004347653593868017, ...  \n",
              "4  [-0.03601551800966263, -0.014106078073382378, ...  "
            ],
            "text/html": [
              "\n",
              "  <div id=\"df-da8de0e5-c61e-4eff-afd3-46720c26d066\" class=\"colab-df-container\">\n",
              "    <div>\n",
              "<style scoped>\n",
              "    .dataframe tbody tr th:only-of-type {\n",
              "        vertical-align: middle;\n",
              "    }\n",
              "\n",
              "    .dataframe tbody tr th {\n",
              "        vertical-align: top;\n",
              "    }\n",
              "\n",
              "    .dataframe thead th {\n",
              "        text-align: right;\n",
              "    }\n",
              "</style>\n",
              "<table border=\"1\" class=\"dataframe\">\n",
              "  <thead>\n",
              "    <tr style=\"text-align: right;\">\n",
              "      <th></th>\n",
              "      <th>Unnamed: 0</th>\n",
              "      <th>text</th>\n",
              "      <th>embedding</th>\n",
              "    </tr>\n",
              "  </thead>\n",
              "  <tbody>\n",
              "    <tr>\n",
              "      <th>0</th>\n",
              "      <td>0</td>\n",
              "      <td>2023 Israel Hamas war  An ongoing armed confli...</td>\n",
              "      <td>[-0.03198346123099327, -0.020022273063659668, ...</td>\n",
              "    </tr>\n",
              "    <tr>\n",
              "      <th>1</th>\n",
              "      <td>1</td>\n",
              "      <td>On that day, Hamas-led Palestinian militants[o...</td>\n",
              "      <td>[-0.0326392836868763, -0.007378561422228813, 0...</td>\n",
              "    </tr>\n",
              "    <tr>\n",
              "      <th>2</th>\n",
              "      <td>2</td>\n",
              "      <td>The surprise attack comprised a barrage of roc...</td>\n",
              "      <td>[-0.011929569765925407, -0.008353897370398045,...</td>\n",
              "    </tr>\n",
              "    <tr>\n",
              "      <th>3</th>\n",
              "      <td>3</td>\n",
              "      <td>At least 846 Israeli civilians and 324 soldier...</td>\n",
              "      <td>[-0.004879564046859741, 0.004347653593868017, ...</td>\n",
              "    </tr>\n",
              "    <tr>\n",
              "      <th>4</th>\n",
              "      <td>4</td>\n",
              "      <td>Hamas stated that its attack was in response t...</td>\n",
              "      <td>[-0.03601551800966263, -0.014106078073382378, ...</td>\n",
              "    </tr>\n",
              "  </tbody>\n",
              "</table>\n",
              "</div>\n",
              "    <div class=\"colab-df-buttons\">\n",
              "\n",
              "  <div class=\"colab-df-container\">\n",
              "    <button class=\"colab-df-convert\" onclick=\"convertToInteractive('df-da8de0e5-c61e-4eff-afd3-46720c26d066')\"\n",
              "            title=\"Convert this dataframe to an interactive table.\"\n",
              "            style=\"display:none;\">\n",
              "\n",
              "  <svg xmlns=\"http://www.w3.org/2000/svg\" height=\"24px\" viewBox=\"0 -960 960 960\">\n",
              "    <path d=\"M120-120v-720h720v720H120Zm60-500h600v-160H180v160Zm220 220h160v-160H400v160Zm0 220h160v-160H400v160ZM180-400h160v-160H180v160Zm440 0h160v-160H620v160ZM180-180h160v-160H180v160Zm440 0h160v-160H620v160Z\"/>\n",
              "  </svg>\n",
              "    </button>\n",
              "\n",
              "  <style>\n",
              "    .colab-df-container {\n",
              "      display:flex;\n",
              "      gap: 12px;\n",
              "    }\n",
              "\n",
              "    .colab-df-convert {\n",
              "      background-color: #E8F0FE;\n",
              "      border: none;\n",
              "      border-radius: 50%;\n",
              "      cursor: pointer;\n",
              "      display: none;\n",
              "      fill: #1967D2;\n",
              "      height: 32px;\n",
              "      padding: 0 0 0 0;\n",
              "      width: 32px;\n",
              "    }\n",
              "\n",
              "    .colab-df-convert:hover {\n",
              "      background-color: #E2EBFA;\n",
              "      box-shadow: 0px 1px 2px rgba(60, 64, 67, 0.3), 0px 1px 3px 1px rgba(60, 64, 67, 0.15);\n",
              "      fill: #174EA6;\n",
              "    }\n",
              "\n",
              "    .colab-df-buttons div {\n",
              "      margin-bottom: 4px;\n",
              "    }\n",
              "\n",
              "    [theme=dark] .colab-df-convert {\n",
              "      background-color: #3B4455;\n",
              "      fill: #D2E3FC;\n",
              "    }\n",
              "\n",
              "    [theme=dark] .colab-df-convert:hover {\n",
              "      background-color: #434B5C;\n",
              "      box-shadow: 0px 1px 3px 1px rgba(0, 0, 0, 0.15);\n",
              "      filter: drop-shadow(0px 1px 2px rgba(0, 0, 0, 0.3));\n",
              "      fill: #FFFFFF;\n",
              "    }\n",
              "  </style>\n",
              "\n",
              "    <script>\n",
              "      const buttonEl =\n",
              "        document.querySelector('#df-da8de0e5-c61e-4eff-afd3-46720c26d066 button.colab-df-convert');\n",
              "      buttonEl.style.display =\n",
              "        google.colab.kernel.accessAllowed ? 'block' : 'none';\n",
              "\n",
              "      async function convertToInteractive(key) {\n",
              "        const element = document.querySelector('#df-da8de0e5-c61e-4eff-afd3-46720c26d066');\n",
              "        const dataTable =\n",
              "          await google.colab.kernel.invokeFunction('convertToInteractive',\n",
              "                                                    [key], {});\n",
              "        if (!dataTable) return;\n",
              "\n",
              "        const docLinkHtml = 'Like what you see? Visit the ' +\n",
              "          '<a target=\"_blank\" href=https://colab.research.google.com/notebooks/data_table.ipynb>data table notebook</a>'\n",
              "          + ' to learn more about interactive tables.';\n",
              "        element.innerHTML = '';\n",
              "        dataTable['output_type'] = 'display_data';\n",
              "        await google.colab.output.renderOutput(dataTable, element);\n",
              "        const docLink = document.createElement('div');\n",
              "        docLink.innerHTML = docLinkHtml;\n",
              "        element.appendChild(docLink);\n",
              "      }\n",
              "    </script>\n",
              "  </div>\n",
              "\n",
              "\n",
              "<div id=\"df-1648e423-875b-47f9-89ff-97d95a1f5b8f\">\n",
              "  <button class=\"colab-df-quickchart\" onclick=\"quickchart('df-1648e423-875b-47f9-89ff-97d95a1f5b8f')\"\n",
              "            title=\"Suggest charts\"\n",
              "            style=\"display:none;\">\n",
              "\n",
              "<svg xmlns=\"http://www.w3.org/2000/svg\" height=\"24px\"viewBox=\"0 0 24 24\"\n",
              "     width=\"24px\">\n",
              "    <g>\n",
              "        <path d=\"M19 3H5c-1.1 0-2 .9-2 2v14c0 1.1.9 2 2 2h14c1.1 0 2-.9 2-2V5c0-1.1-.9-2-2-2zM9 17H7v-7h2v7zm4 0h-2V7h2v10zm4 0h-2v-4h2v4z\"/>\n",
              "    </g>\n",
              "</svg>\n",
              "  </button>\n",
              "\n",
              "<style>\n",
              "  .colab-df-quickchart {\n",
              "      --bg-color: #E8F0FE;\n",
              "      --fill-color: #1967D2;\n",
              "      --hover-bg-color: #E2EBFA;\n",
              "      --hover-fill-color: #174EA6;\n",
              "      --disabled-fill-color: #AAA;\n",
              "      --disabled-bg-color: #DDD;\n",
              "  }\n",
              "\n",
              "  [theme=dark] .colab-df-quickchart {\n",
              "      --bg-color: #3B4455;\n",
              "      --fill-color: #D2E3FC;\n",
              "      --hover-bg-color: #434B5C;\n",
              "      --hover-fill-color: #FFFFFF;\n",
              "      --disabled-bg-color: #3B4455;\n",
              "      --disabled-fill-color: #666;\n",
              "  }\n",
              "\n",
              "  .colab-df-quickchart {\n",
              "    background-color: var(--bg-color);\n",
              "    border: none;\n",
              "    border-radius: 50%;\n",
              "    cursor: pointer;\n",
              "    display: none;\n",
              "    fill: var(--fill-color);\n",
              "    height: 32px;\n",
              "    padding: 0;\n",
              "    width: 32px;\n",
              "  }\n",
              "\n",
              "  .colab-df-quickchart:hover {\n",
              "    background-color: var(--hover-bg-color);\n",
              "    box-shadow: 0 1px 2px rgba(60, 64, 67, 0.3), 0 1px 3px 1px rgba(60, 64, 67, 0.15);\n",
              "    fill: var(--button-hover-fill-color);\n",
              "  }\n",
              "\n",
              "  .colab-df-quickchart-complete:disabled,\n",
              "  .colab-df-quickchart-complete:disabled:hover {\n",
              "    background-color: var(--disabled-bg-color);\n",
              "    fill: var(--disabled-fill-color);\n",
              "    box-shadow: none;\n",
              "  }\n",
              "\n",
              "  .colab-df-spinner {\n",
              "    border: 2px solid var(--fill-color);\n",
              "    border-color: transparent;\n",
              "    border-bottom-color: var(--fill-color);\n",
              "    animation:\n",
              "      spin 1s steps(1) infinite;\n",
              "  }\n",
              "\n",
              "  @keyframes spin {\n",
              "    0% {\n",
              "      border-color: transparent;\n",
              "      border-bottom-color: var(--fill-color);\n",
              "      border-left-color: var(--fill-color);\n",
              "    }\n",
              "    20% {\n",
              "      border-color: transparent;\n",
              "      border-left-color: var(--fill-color);\n",
              "      border-top-color: var(--fill-color);\n",
              "    }\n",
              "    30% {\n",
              "      border-color: transparent;\n",
              "      border-left-color: var(--fill-color);\n",
              "      border-top-color: var(--fill-color);\n",
              "      border-right-color: var(--fill-color);\n",
              "    }\n",
              "    40% {\n",
              "      border-color: transparent;\n",
              "      border-right-color: var(--fill-color);\n",
              "      border-top-color: var(--fill-color);\n",
              "    }\n",
              "    60% {\n",
              "      border-color: transparent;\n",
              "      border-right-color: var(--fill-color);\n",
              "    }\n",
              "    80% {\n",
              "      border-color: transparent;\n",
              "      border-right-color: var(--fill-color);\n",
              "      border-bottom-color: var(--fill-color);\n",
              "    }\n",
              "    90% {\n",
              "      border-color: transparent;\n",
              "      border-bottom-color: var(--fill-color);\n",
              "    }\n",
              "  }\n",
              "</style>\n",
              "\n",
              "  <script>\n",
              "    async function quickchart(key) {\n",
              "      const quickchartButtonEl =\n",
              "        document.querySelector('#' + key + ' button');\n",
              "      quickchartButtonEl.disabled = true;  // To prevent multiple clicks.\n",
              "      quickchartButtonEl.classList.add('colab-df-spinner');\n",
              "      try {\n",
              "        const charts = await google.colab.kernel.invokeFunction(\n",
              "            'suggestCharts', [key], {});\n",
              "      } catch (error) {\n",
              "        console.error('Error during call to suggestCharts:', error);\n",
              "      }\n",
              "      quickchartButtonEl.classList.remove('colab-df-spinner');\n",
              "      quickchartButtonEl.classList.add('colab-df-quickchart-complete');\n",
              "    }\n",
              "    (() => {\n",
              "      let quickchartButtonEl =\n",
              "        document.querySelector('#df-1648e423-875b-47f9-89ff-97d95a1f5b8f button');\n",
              "      quickchartButtonEl.style.display =\n",
              "        google.colab.kernel.accessAllowed ? 'block' : 'none';\n",
              "    })();\n",
              "  </script>\n",
              "</div>\n",
              "    </div>\n",
              "  </div>\n"
            ]
          },
          "metadata": {},
          "execution_count": 20
        }
      ]
    },
    {
      "cell_type": "code",
      "source": [
        "df.drop('Unnamed: 0', axis=1, inplace=True)"
      ],
      "metadata": {
        "id": "HpCJAxnK9Kio"
      },
      "execution_count": null,
      "outputs": []
    },
    {
      "cell_type": "code",
      "source": [
        "df.to_csv(\"/content/gdrive/MyDrive/Colab Notebooks/War_embedded.csv\")"
      ],
      "metadata": {
        "id": "R-oOBo1e9NCG"
      },
      "execution_count": 25,
      "outputs": []
    },
    {
      "cell_type": "code",
      "source": [
        "df.head()"
      ],
      "metadata": {
        "colab": {
          "base_uri": "https://localhost:8080/",
          "height": 206
        },
        "id": "JTKle7Uo9Y4U",
        "outputId": "f33964b0-5c72-4643-d340-704ca553b84f"
      },
      "execution_count": 26,
      "outputs": [
        {
          "output_type": "execute_result",
          "data": {
            "text/plain": [
              "                                                text  \\\n",
              "0  2023 Israel Hamas war  An ongoing armed confli...   \n",
              "1  On that day, Hamas-led Palestinian militants[o...   \n",
              "2  The surprise attack comprised a barrage of roc...   \n",
              "3  At least 846 Israeli civilians and 324 soldier...   \n",
              "4  Hamas stated that its attack was in response t...   \n",
              "\n",
              "                                           embedding  \n",
              "0  [-0.03198346123099327, -0.020022273063659668, ...  \n",
              "1  [-0.0326392836868763, -0.007378561422228813, 0...  \n",
              "2  [-0.011929569765925407, -0.008353897370398045,...  \n",
              "3  [-0.004879564046859741, 0.004347653593868017, ...  \n",
              "4  [-0.03601551800966263, -0.014106078073382378, ...  "
            ],
            "text/html": [
              "\n",
              "  <div id=\"df-cff86025-1835-402d-9182-8e71179deaeb\" class=\"colab-df-container\">\n",
              "    <div>\n",
              "<style scoped>\n",
              "    .dataframe tbody tr th:only-of-type {\n",
              "        vertical-align: middle;\n",
              "    }\n",
              "\n",
              "    .dataframe tbody tr th {\n",
              "        vertical-align: top;\n",
              "    }\n",
              "\n",
              "    .dataframe thead th {\n",
              "        text-align: right;\n",
              "    }\n",
              "</style>\n",
              "<table border=\"1\" class=\"dataframe\">\n",
              "  <thead>\n",
              "    <tr style=\"text-align: right;\">\n",
              "      <th></th>\n",
              "      <th>text</th>\n",
              "      <th>embedding</th>\n",
              "    </tr>\n",
              "  </thead>\n",
              "  <tbody>\n",
              "    <tr>\n",
              "      <th>0</th>\n",
              "      <td>2023 Israel Hamas war  An ongoing armed confli...</td>\n",
              "      <td>[-0.03198346123099327, -0.020022273063659668, ...</td>\n",
              "    </tr>\n",
              "    <tr>\n",
              "      <th>1</th>\n",
              "      <td>On that day, Hamas-led Palestinian militants[o...</td>\n",
              "      <td>[-0.0326392836868763, -0.007378561422228813, 0...</td>\n",
              "    </tr>\n",
              "    <tr>\n",
              "      <th>2</th>\n",
              "      <td>The surprise attack comprised a barrage of roc...</td>\n",
              "      <td>[-0.011929569765925407, -0.008353897370398045,...</td>\n",
              "    </tr>\n",
              "    <tr>\n",
              "      <th>3</th>\n",
              "      <td>At least 846 Israeli civilians and 324 soldier...</td>\n",
              "      <td>[-0.004879564046859741, 0.004347653593868017, ...</td>\n",
              "    </tr>\n",
              "    <tr>\n",
              "      <th>4</th>\n",
              "      <td>Hamas stated that its attack was in response t...</td>\n",
              "      <td>[-0.03601551800966263, -0.014106078073382378, ...</td>\n",
              "    </tr>\n",
              "  </tbody>\n",
              "</table>\n",
              "</div>\n",
              "    <div class=\"colab-df-buttons\">\n",
              "\n",
              "  <div class=\"colab-df-container\">\n",
              "    <button class=\"colab-df-convert\" onclick=\"convertToInteractive('df-cff86025-1835-402d-9182-8e71179deaeb')\"\n",
              "            title=\"Convert this dataframe to an interactive table.\"\n",
              "            style=\"display:none;\">\n",
              "\n",
              "  <svg xmlns=\"http://www.w3.org/2000/svg\" height=\"24px\" viewBox=\"0 -960 960 960\">\n",
              "    <path d=\"M120-120v-720h720v720H120Zm60-500h600v-160H180v160Zm220 220h160v-160H400v160Zm0 220h160v-160H400v160ZM180-400h160v-160H180v160Zm440 0h160v-160H620v160ZM180-180h160v-160H180v160Zm440 0h160v-160H620v160Z\"/>\n",
              "  </svg>\n",
              "    </button>\n",
              "\n",
              "  <style>\n",
              "    .colab-df-container {\n",
              "      display:flex;\n",
              "      gap: 12px;\n",
              "    }\n",
              "\n",
              "    .colab-df-convert {\n",
              "      background-color: #E8F0FE;\n",
              "      border: none;\n",
              "      border-radius: 50%;\n",
              "      cursor: pointer;\n",
              "      display: none;\n",
              "      fill: #1967D2;\n",
              "      height: 32px;\n",
              "      padding: 0 0 0 0;\n",
              "      width: 32px;\n",
              "    }\n",
              "\n",
              "    .colab-df-convert:hover {\n",
              "      background-color: #E2EBFA;\n",
              "      box-shadow: 0px 1px 2px rgba(60, 64, 67, 0.3), 0px 1px 3px 1px rgba(60, 64, 67, 0.15);\n",
              "      fill: #174EA6;\n",
              "    }\n",
              "\n",
              "    .colab-df-buttons div {\n",
              "      margin-bottom: 4px;\n",
              "    }\n",
              "\n",
              "    [theme=dark] .colab-df-convert {\n",
              "      background-color: #3B4455;\n",
              "      fill: #D2E3FC;\n",
              "    }\n",
              "\n",
              "    [theme=dark] .colab-df-convert:hover {\n",
              "      background-color: #434B5C;\n",
              "      box-shadow: 0px 1px 3px 1px rgba(0, 0, 0, 0.15);\n",
              "      filter: drop-shadow(0px 1px 2px rgba(0, 0, 0, 0.3));\n",
              "      fill: #FFFFFF;\n",
              "    }\n",
              "  </style>\n",
              "\n",
              "    <script>\n",
              "      const buttonEl =\n",
              "        document.querySelector('#df-cff86025-1835-402d-9182-8e71179deaeb button.colab-df-convert');\n",
              "      buttonEl.style.display =\n",
              "        google.colab.kernel.accessAllowed ? 'block' : 'none';\n",
              "\n",
              "      async function convertToInteractive(key) {\n",
              "        const element = document.querySelector('#df-cff86025-1835-402d-9182-8e71179deaeb');\n",
              "        const dataTable =\n",
              "          await google.colab.kernel.invokeFunction('convertToInteractive',\n",
              "                                                    [key], {});\n",
              "        if (!dataTable) return;\n",
              "\n",
              "        const docLinkHtml = 'Like what you see? Visit the ' +\n",
              "          '<a target=\"_blank\" href=https://colab.research.google.com/notebooks/data_table.ipynb>data table notebook</a>'\n",
              "          + ' to learn more about interactive tables.';\n",
              "        element.innerHTML = '';\n",
              "        dataTable['output_type'] = 'display_data';\n",
              "        await google.colab.output.renderOutput(dataTable, element);\n",
              "        const docLink = document.createElement('div');\n",
              "        docLink.innerHTML = docLinkHtml;\n",
              "        element.appendChild(docLink);\n",
              "      }\n",
              "    </script>\n",
              "  </div>\n",
              "\n",
              "\n",
              "<div id=\"df-3453dbd0-4f1f-4821-9e44-18a9ba5f8e4b\">\n",
              "  <button class=\"colab-df-quickchart\" onclick=\"quickchart('df-3453dbd0-4f1f-4821-9e44-18a9ba5f8e4b')\"\n",
              "            title=\"Suggest charts\"\n",
              "            style=\"display:none;\">\n",
              "\n",
              "<svg xmlns=\"http://www.w3.org/2000/svg\" height=\"24px\"viewBox=\"0 0 24 24\"\n",
              "     width=\"24px\">\n",
              "    <g>\n",
              "        <path d=\"M19 3H5c-1.1 0-2 .9-2 2v14c0 1.1.9 2 2 2h14c1.1 0 2-.9 2-2V5c0-1.1-.9-2-2-2zM9 17H7v-7h2v7zm4 0h-2V7h2v10zm4 0h-2v-4h2v4z\"/>\n",
              "    </g>\n",
              "</svg>\n",
              "  </button>\n",
              "\n",
              "<style>\n",
              "  .colab-df-quickchart {\n",
              "      --bg-color: #E8F0FE;\n",
              "      --fill-color: #1967D2;\n",
              "      --hover-bg-color: #E2EBFA;\n",
              "      --hover-fill-color: #174EA6;\n",
              "      --disabled-fill-color: #AAA;\n",
              "      --disabled-bg-color: #DDD;\n",
              "  }\n",
              "\n",
              "  [theme=dark] .colab-df-quickchart {\n",
              "      --bg-color: #3B4455;\n",
              "      --fill-color: #D2E3FC;\n",
              "      --hover-bg-color: #434B5C;\n",
              "      --hover-fill-color: #FFFFFF;\n",
              "      --disabled-bg-color: #3B4455;\n",
              "      --disabled-fill-color: #666;\n",
              "  }\n",
              "\n",
              "  .colab-df-quickchart {\n",
              "    background-color: var(--bg-color);\n",
              "    border: none;\n",
              "    border-radius: 50%;\n",
              "    cursor: pointer;\n",
              "    display: none;\n",
              "    fill: var(--fill-color);\n",
              "    height: 32px;\n",
              "    padding: 0;\n",
              "    width: 32px;\n",
              "  }\n",
              "\n",
              "  .colab-df-quickchart:hover {\n",
              "    background-color: var(--hover-bg-color);\n",
              "    box-shadow: 0 1px 2px rgba(60, 64, 67, 0.3), 0 1px 3px 1px rgba(60, 64, 67, 0.15);\n",
              "    fill: var(--button-hover-fill-color);\n",
              "  }\n",
              "\n",
              "  .colab-df-quickchart-complete:disabled,\n",
              "  .colab-df-quickchart-complete:disabled:hover {\n",
              "    background-color: var(--disabled-bg-color);\n",
              "    fill: var(--disabled-fill-color);\n",
              "    box-shadow: none;\n",
              "  }\n",
              "\n",
              "  .colab-df-spinner {\n",
              "    border: 2px solid var(--fill-color);\n",
              "    border-color: transparent;\n",
              "    border-bottom-color: var(--fill-color);\n",
              "    animation:\n",
              "      spin 1s steps(1) infinite;\n",
              "  }\n",
              "\n",
              "  @keyframes spin {\n",
              "    0% {\n",
              "      border-color: transparent;\n",
              "      border-bottom-color: var(--fill-color);\n",
              "      border-left-color: var(--fill-color);\n",
              "    }\n",
              "    20% {\n",
              "      border-color: transparent;\n",
              "      border-left-color: var(--fill-color);\n",
              "      border-top-color: var(--fill-color);\n",
              "    }\n",
              "    30% {\n",
              "      border-color: transparent;\n",
              "      border-left-color: var(--fill-color);\n",
              "      border-top-color: var(--fill-color);\n",
              "      border-right-color: var(--fill-color);\n",
              "    }\n",
              "    40% {\n",
              "      border-color: transparent;\n",
              "      border-right-color: var(--fill-color);\n",
              "      border-top-color: var(--fill-color);\n",
              "    }\n",
              "    60% {\n",
              "      border-color: transparent;\n",
              "      border-right-color: var(--fill-color);\n",
              "    }\n",
              "    80% {\n",
              "      border-color: transparent;\n",
              "      border-right-color: var(--fill-color);\n",
              "      border-bottom-color: var(--fill-color);\n",
              "    }\n",
              "    90% {\n",
              "      border-color: transparent;\n",
              "      border-bottom-color: var(--fill-color);\n",
              "    }\n",
              "  }\n",
              "</style>\n",
              "\n",
              "  <script>\n",
              "    async function quickchart(key) {\n",
              "      const quickchartButtonEl =\n",
              "        document.querySelector('#' + key + ' button');\n",
              "      quickchartButtonEl.disabled = true;  // To prevent multiple clicks.\n",
              "      quickchartButtonEl.classList.add('colab-df-spinner');\n",
              "      try {\n",
              "        const charts = await google.colab.kernel.invokeFunction(\n",
              "            'suggestCharts', [key], {});\n",
              "      } catch (error) {\n",
              "        console.error('Error during call to suggestCharts:', error);\n",
              "      }\n",
              "      quickchartButtonEl.classList.remove('colab-df-spinner');\n",
              "      quickchartButtonEl.classList.add('colab-df-quickchart-complete');\n",
              "    }\n",
              "    (() => {\n",
              "      let quickchartButtonEl =\n",
              "        document.querySelector('#df-3453dbd0-4f1f-4821-9e44-18a9ba5f8e4b button');\n",
              "      quickchartButtonEl.style.display =\n",
              "        google.colab.kernel.accessAllowed ? 'block' : 'none';\n",
              "    })();\n",
              "  </script>\n",
              "</div>\n",
              "    </div>\n",
              "  </div>\n"
            ]
          },
          "metadata": {},
          "execution_count": 26
        }
      ]
    },
    {
      "cell_type": "code",
      "source": [
        "def strings_ranked_by_relatedness(\n",
        "        query: str,\n",
        "        df: pd.DataFrame,\n",
        "        relatedness_fn=lambda x, y: 1 - spatial.distance.cosine(x, y),\n",
        "        top_n: int = 100\n",
        ") -> Tuple[List[str], List[float]]:\n",
        "    \"\"\"Returns a list of strings and relatednesses, sorted from most related to least.\"\"\"\n",
        "    query_embedding_response = openai.Embedding.create(\n",
        "        model=\"text-embedding-ada-002\",\n",
        "        input=query,\n",
        "    )\n",
        "    query_embedding = np.array(query_embedding_response[\"data\"][0][\"embedding\"])\n",
        "    if len(query_embedding.shape) != 1:\n",
        "        query_embedding = np.reshape(query_embedding, -1)  # Reshape to 1-D if not already\n",
        "\n",
        "    strings_and_relatednesses = []\n",
        "    for _, row in df.iterrows():\n",
        "        # Convert the string representation of embedding to numpy array\n",
        "        row_embedding = np.fromstring(row[\"embedding\"].strip('[]'), sep=',')\n",
        "        relatedness = relatedness_fn(query_embedding, row_embedding)\n",
        "        strings_and_relatednesses.append((row[\"text\"], relatedness))\n",
        "\n",
        "    strings_and_relatednesses.sort(key=lambda x: x[1], reverse=True)\n",
        "    strings, relatednesses = zip(*strings_and_relatednesses)\n",
        "    return list(strings)[:top_n], list(relatednesses)[:top_n]"
      ],
      "metadata": {
        "id": "EsewDAKM9qwz"
      },
      "execution_count": 27,
      "outputs": []
    },
    {
      "cell_type": "code",
      "source": [
        "# examples\n",
        "strings, relatednesses = strings_ranked_by_relatedness(\"December\", df, top_n=5)\n",
        "for string, relatedness in zip(strings, relatednesses):\n",
        "    print(f\"{relatedness=:.3f}\")\n",
        "    display(string)"
      ],
      "metadata": {
        "colab": {
          "base_uri": "https://localhost:8080/",
          "height": 195
        },
        "id": "g5Mr9DvK9sMT",
        "outputId": "32af1c97-51f6-41ce-970d-22a174203fe8"
      },
      "execution_count": 28,
      "outputs": [
        {
          "output_type": "stream",
          "name": "stdout",
          "text": [
            "relatedness=0.819\n"
          ]
        },
        {
          "output_type": "display_data",
          "data": {
            "text/plain": [
              "'On 1 December, combat resumed following the expiration of the truce'"
            ],
            "application/vnd.google.colaboratory.intrinsic+json": {
              "type": "string"
            }
          },
          "metadata": {}
        },
        {
          "output_type": "stream",
          "name": "stdout",
          "text": [
            "relatedness=0.811\n"
          ]
        },
        {
          "output_type": "display_data",
          "data": {
            "text/plain": [
              "nan"
            ]
          },
          "metadata": {}
        },
        {
          "output_type": "stream",
          "name": "stdout",
          "text": [
            "relatedness=0.796\n"
          ]
        },
        {
          "output_type": "display_data",
          "data": {
            "text/plain": [
              "'Resumption of hostilities (1 December present)  The ceasefire ended in the morning and both parties confirmed that military operations resumed'"
            ],
            "application/vnd.google.colaboratory.intrinsic+json": {
              "type": "string"
            }
          },
          "metadata": {}
        },
        {
          "output_type": "stream",
          "name": "stdout",
          "text": [
            "relatedness=0.790\n"
          ]
        },
        {
          "output_type": "display_data",
          "data": {
            "text/plain": [
              "'28 November  Both Israel and Hamas accused each other of violating the truce'"
            ],
            "application/vnd.google.colaboratory.intrinsic+json": {
              "type": "string"
            }
          },
          "metadata": {}
        },
        {
          "output_type": "stream",
          "name": "stdout",
          "text": [
            "relatedness=0.788\n"
          ]
        },
        {
          "output_type": "display_data",
          "data": {
            "text/plain": [
              "'1 December  Leaflets were dropped with maps into Khan Yunis depicting hundreds of evacuation zones'"
            ],
            "application/vnd.google.colaboratory.intrinsic+json": {
              "type": "string"
            }
          },
          "metadata": {}
        }
      ]
    },
    {
      "cell_type": "markdown",
      "source": [
        "### We are good to proceed with our QA"
      ],
      "metadata": {
        "id": "pMEWX8VX-0Ll"
      }
    },
    {
      "cell_type": "code",
      "source": [
        "# Number of tokens used\n",
        "\n",
        "def num_tokens(text: str, model: str = \"gpt-3.5-turbo\") -> int:\n",
        "    \"\"\"Return the number of tokens in a string.\"\"\"\n",
        "    encoding = tiktoken.encoding_for_model(model)\n",
        "    return len(encoding.encode(text))\n",
        "# Setting Personality\n",
        "\n",
        "def query_message(query: str, df: pd.DataFrame, model: str, token_budget: int) -> str:\n",
        "    strings, relatednesses = strings_ranked_by_relatedness(query, df)\n",
        "    introduction = \"Answer the question based on the data that was provided to you:\"\n",
        "    question = f\"\\n\\nQuestion: {query}\"\n",
        "    message = introduction\n",
        "    for string in strings:\n",
        "        potential_message = message + \"\\n\\n\" + string + question\n",
        "        if num_tokens(potential_message, model=model) > token_budget:\n",
        "            break\n",
        "        else:\n",
        "            message = potential_message\n",
        "    return message\n",
        "\n",
        "# Revised ask function\n",
        "def ask(query: str, df: pd.DataFrame, model: str = \"gpt-3.5-turbo\", token_budget: int = 4096 - 500, print_message: bool = False) -> str:\n",
        "    message = query_message(query, df, model=model, token_budget=token_budget)\n",
        "    if print_message:\n",
        "        print(message)\n",
        "    messages = [\n",
        "        {\"role\": \"system\", \"content\": \"Answer this question based on the following context.\"},\n",
        "        {\"role\": \"user\", \"content\": message},\n",
        "    ]\n",
        "    response = openai.ChatCompletion.create(\n",
        "        model=model,\n",
        "        messages=messages,\n",
        "        temperature=0\n",
        "    )\n",
        "    response_message = response.choices[0].message.content\n",
        "    return response_message"
      ],
      "metadata": {
        "id": "d7zuW6s2-5IX"
      },
      "execution_count": 38,
      "outputs": []
    },
    {
      "cell_type": "code",
      "source": [
        "ask(\"Events happened on december of war?\",df)"
      ],
      "metadata": {
        "colab": {
          "base_uri": "https://localhost:8080/",
          "height": 70
        },
        "id": "Zh4RIuZyFDP5",
        "outputId": "2405e4ee-fac2-43d8-acaf-61842798a266"
      },
      "execution_count": 56,
      "outputs": [
        {
          "output_type": "execute_result",
          "data": {
            "text/plain": [
              "\"Based on the provided data, the following events happened in December of the war:\\n\\n- On 1 December, combat resumed following the expiration of the truce.\\n- Leaflets were dropped with maps into Khan Yunis depicting hundreds of evacuation zones on 1 December.\\n- Multiple conflicts escalated into outright wars.\\n- On 28 November, both Israel and Hamas accused each other of violating the truce.\\n- Israel's declaration of a state of war marked the start of the most significant military escalation in the region since the Yom Kippur War in 1973.\""
            ],
            "application/vnd.google.colaboratory.intrinsic+json": {
              "type": "string"
            }
          },
          "metadata": {},
          "execution_count": 56
        }
      ]
    },
    {
      "cell_type": "code",
      "source": [
        "ask(\"On 1 December, combat resumed following the expiration of the truce ?\",df)"
      ],
      "metadata": {
        "colab": {
          "base_uri": "https://localhost:8080/",
          "height": 35
        },
        "id": "_bX8ULRR-6T-",
        "outputId": "5c222cb5-7968-4e79-9d9a-62b114377d72"
      },
      "execution_count": 43,
      "outputs": [
        {
          "output_type": "execute_result",
          "data": {
            "text/plain": [
              "'Yes, on 1 December, combat resumed following the expiration of the truce.'"
            ],
            "application/vnd.google.colaboratory.intrinsic+json": {
              "type": "string"
            }
          },
          "metadata": {},
          "execution_count": 43
        }
      ]
    },
    {
      "cell_type": "markdown",
      "source": [
        "# Now lets implement the while loop"
      ],
      "metadata": {
        "id": "6NRU2_g5HwAe"
      }
    },
    {
      "cell_type": "code",
      "source": [
        "def main():\n",
        "    # Load your DataFrame\n",
        "    df = pd.read_csv(\"War_embedded.csv\")\n",
        "\n",
        "    # Looping\n",
        "    while True:\n",
        "        user_input = input(\"Ask a question (or type 'exit' to stop): \")\n",
        "        if user_input.lower() == 'exit':\n",
        "            break\n",
        "\n",
        "        response = ask(user_input, df)\n",
        "        print(\"Response:\", response)\n",
        "\n",
        "if __name__ == \"__main__\":\n",
        "    main()\n"
      ],
      "metadata": {
        "colab": {
          "base_uri": "https://localhost:8080/"
        },
        "id": "6Hhc99KqEA6Y",
        "outputId": "d3770b5f-a695-4f0f-804d-b7f65475f096"
      },
      "execution_count": 52,
      "outputs": [
        {
          "name": "stdout",
          "output_type": "stream",
          "text": [
            "Ask a question (or type 'exit' to stop): Can you tell me when this israel-hamas war started ?\n",
            "Response: Based on the information provided, the Israel-Hamas war started on 7 October 2023.\n",
            "Ask a question (or type 'exit' to stop): Can you tell me how many people died during this war ?\n",
            "Response: Based on the information provided, it is not possible to determine the exact number of people who died during this war. The data includes various incidents and conflicts, but does not provide a comprehensive count of the total casualties.\n",
            "Ask a question (or type 'exit' to stop): What events happened on november of war ?\n",
            "Response: Based on the data provided, the events that happened in November of the war include:\n",
            "\n",
            "- On 1 November, the first group of evacuees left Gaza into Egypt.\n",
            "- On 28 November, both Israel and Hamas accused each other of violating the truce.\n",
            "- On 21 November, the IDF moved its frontline to encircle the Jabaliya camp where they are battling Palestinian militants and attempting to control with IDF forces getting more equipment for the attack.\n",
            "- On 27 November, internet and mobile phone services in Gaza were almost completely cut off.\n",
            "- On 29 November, Hamas released 12 hostages, 10 of them Israeli and two of them Thai nationals.\n",
            "- On 30 November, Hamas released two more hostages as the truce, which was supposed to end minutes later, was extended by another day.\n",
            "Ask a question (or type 'exit' to stop): exit\n"
          ]
        }
      ]
    }
  ]
}